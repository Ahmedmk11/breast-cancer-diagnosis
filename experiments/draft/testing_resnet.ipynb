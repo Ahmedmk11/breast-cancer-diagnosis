{
 "cells": [
  {
   "cell_type": "markdown",
   "metadata": {},
   "source": [
    "# Data Preprocessing"
   ]
  },
  {
   "cell_type": "code",
   "execution_count": 1,
   "metadata": {},
   "outputs": [
    {
     "name": "stdout",
     "output_type": "stream",
     "text": [
      "['../../data/processed/BUSI/benign (328).png', '../../data/processed/BUSI/benign (282).png', '../../data/processed/BUSI/malignant (206).png', '../../data/processed/BUSI/benign (144).png', '../../data/processed/BUSI/benign (82).png', '../../data/processed/BUSI/benign (390).png', '../../data/processed/BUSI/benign (113).png', '../../data/processed/BUSI/malignant (178).png', '../../data/processed/BUSI/normal (52).png', '../../data/processed/BUSI/malignant (197).png', '../../data/processed/BUSI/benign (406).png', '../../data/processed/BUSI/malignant (51).png', '../../data/processed/BUSI/benign (369).png', '../../data/processed/BUSI/benign (386).png', '../../data/processed/BUSI/normal (44).png', '../../data/processed/BUSI/benign (105).png', '../../data/processed/BUSI/malignant (47).png', '../../data/processed/BUSI/benign (410).png', '../../data/processed/BUSI/malignant (181).png', '../../data/processed/BUSI/benign (294).png', '../../data/processed/BUSI/normal (108).png', '../../data/processed/BUSI/malignant (210).png', '../../data/processed/BUSI/benign (152).png', '../../data/processed/BUSI/normal (13).png', '../../data/processed/BUSI/malignant (139).png', '../../data/processed/BUSI/malignant (10).png', '../../data/processed/BUSI/benign (94).png', '../../data/processed/BUSI/benign (200).png', '../../data/processed/BUSI/benign (345).png', '../../data/processed/BUSI/normal (87).png', '../../data/processed/BUSI/malignant (84).png', '../../data/processed/BUSI/benign (129).png', '../../data/processed/BUSI/malignant (142).png', '../../data/processed/BUSI/normal (68).png', '../../data/processed/BUSI/benign (257).png', '../../data/processed/BUSI/benign (312).png', '../../data/processed/BUSI/normal (124).png', '../../data/processed/BUSI/benign (191).png', '../../data/processed/BUSI/malignant (115).png', '../../data/processed/BUSI/benign (57).png', '../../data/processed/BUSI/benign (241).png', '../../data/processed/BUSI/normal (132).png', '../../data/processed/BUSI/benign (304).png', '../../data/processed/BUSI/benign (187).png', '../../data/processed/BUSI/benign (41).png', '../../data/processed/BUSI/benign (168).png', '../../data/processed/BUSI/normal (29).png', '../../data/processed/BUSI/malignant (103).png', '../../data/processed/BUSI/benign (216).png', '../../data/processed/BUSI/benign (353).png', '../../data/processed/BUSI/malignant (6).png', '../../data/processed/BUSI/normal (91).png', '../../data/processed/BUSI/malignant (154).png', '../../data/processed/BUSI/malignant (92).png', '../../data/processed/BUSI/benign (16).png', '../../data/processed/BUSI/benign (61).png', '../../data/processed/BUSI/benign (148).png', '../../data/processed/BUSI/malignant (123).png', '../../data/processed/BUSI/normal (112).png', '../../data/processed/BUSI/benign (324).png', '../../data/processed/BUSI/benign (261).png', '../../data/processed/BUSI/malignant (174).png', '../../data/processed/BUSI/benign (36).png', '../../data/processed/BUSI/benign (373).png', '../../data/processed/BUSI/benign (236).png', '../../data/processed/BUSI/benign (20).png', '../../data/processed/BUSI/benign (109).png', '../../data/processed/BUSI/malignant (162).png', '../../data/processed/BUSI/normal (48).png', '../../data/processed/BUSI/benign (365).png', '../../data/processed/BUSI/benign (220).png', '../../data/processed/BUSI/malignant (135).png', '../../data/processed/BUSI/benign (77).png', '../../data/processed/BUSI/benign (98).png', '../../data/processed/BUSI/benign (332).png', '../../data/processed/BUSI/benign (298).png', '../../data/processed/BUSI/normal (104).png', '../../data/processed/BUSI/benign (277).png', '../../data/processed/BUSI/benign (2).png', '../../data/processed/BUSI/malignant (67).png', '../../data/processed/BUSI/benign (430).png', '../../data/processed/BUSI/normal (64).png', '../../data/processed/BUSI/benign (125).png', '../../data/processed/BUSI/malignant (88).png', '../../data/processed/BUSI/benign (349).png', '../../data/processed/BUSI/malignant (30).png', '../../data/processed/BUSI/benign (172).png', '../../data/processed/BUSI/normal (33).png', '../../data/processed/BUSI/malignant (119).png', '../../data/processed/BUSI/normal (128).png', '../../data/processed/BUSI/malignant (26).png', '../../data/processed/BUSI/normal (25).png', '../../data/processed/BUSI/benign (164).png', '../../data/processed/BUSI/benign (308).png', '../../data/processed/BUSI/benign (426).png', '../../data/processed/BUSI/malignant (71).png', '../../data/processed/BUSI/benign (133).png', '../../data/processed/BUSI/malignant (158).png', '../../data/processed/BUSI/normal (72).png', '../../data/processed/BUSI/benign (427).png', '../../data/processed/BUSI/malignant (70).png', '../../data/processed/BUSI/benign (132).png', '../../data/processed/BUSI/normal (73).png', '../../data/processed/BUSI/malignant (159).png', '../../data/processed/BUSI/benign (309).png', '../../data/processed/BUSI/malignant (27).png', '../../data/processed/BUSI/normal (24).png', '../../data/processed/BUSI/benign (165).png', '../../data/processed/BUSI/normal (129).png', '../../data/processed/BUSI/malignant (31).png', '../../data/processed/BUSI/benign (173).png', '../../data/processed/BUSI/malignant (118).png', '../../data/processed/BUSI/normal (32).png', '../../data/processed/BUSI/benign (348).png', '../../data/processed/BUSI/benign (3).png', '../../data/processed/BUSI/malignant (66).png', '../../data/processed/BUSI/benign (431).png', '../../data/processed/BUSI/normal (65).png', '../../data/processed/BUSI/benign (124).png', '../../data/processed/BUSI/malignant (89).png', '../../data/processed/BUSI/benign (333).png', '../../data/processed/BUSI/benign (299).png', '../../data/processed/BUSI/normal (105).png', '../../data/processed/BUSI/benign (276).png', '../../data/processed/BUSI/malignant (134).png', '../../data/processed/BUSI/benign (76).png', '../../data/processed/BUSI/benign (99).png', '../../data/processed/BUSI/benign (364).png', '../../data/processed/BUSI/benign (221).png', '../../data/processed/BUSI/benign (21).png', '../../data/processed/BUSI/benign (108).png', '../../data/processed/BUSI/normal (49).png', '../../data/processed/BUSI/malignant (163).png', '../../data/processed/BUSI/benign (372).png', '../../data/processed/BUSI/benign (237).png', '../../data/processed/BUSI/malignant (175).png', '../../data/processed/BUSI/benign (37).png', '../../data/processed/BUSI/normal (113).png', '../../data/processed/BUSI/benign (325).png', '../../data/processed/BUSI/benign (260).png', '../../data/processed/BUSI/benign (60).png', '../../data/processed/BUSI/benign (149).png', '../../data/processed/BUSI/malignant (122).png', '../../data/processed/BUSI/malignant (7).png', '../../data/processed/BUSI/normal (90).png', '../../data/processed/BUSI/malignant (155).png', '../../data/processed/BUSI/malignant (93).png', '../../data/processed/BUSI/benign (17).png', '../../data/processed/BUSI/benign (217).png', '../../data/processed/BUSI/benign (352).png', '../../data/processed/BUSI/benign (186).png', '../../data/processed/BUSI/benign (40).png', '../../data/processed/BUSI/benign (169).png', '../../data/processed/BUSI/malignant (102).png', '../../data/processed/BUSI/normal (28).png', '../../data/processed/BUSI/benign (240).png', '../../data/processed/BUSI/normal (133).png', '../../data/processed/BUSI/benign (305).png', '../../data/processed/BUSI/benign (190).png', '../../data/processed/BUSI/malignant (114).png', '../../data/processed/BUSI/normal (1).png', '../../data/processed/BUSI/benign (56).png', '../../data/processed/BUSI/benign (256).png', '../../data/processed/BUSI/benign (313).png', '../../data/processed/BUSI/normal (125).png', '../../data/processed/BUSI/normal (86).png', '../../data/processed/BUSI/malignant (85).png', '../../data/processed/BUSI/benign (128).png', '../../data/processed/BUSI/normal (69).png', '../../data/processed/BUSI/malignant (143).png', '../../data/processed/BUSI/benign (201).png', '../../data/processed/BUSI/benign (344).png', '../../data/processed/BUSI/benign (153).png', '../../data/processed/BUSI/malignant (138).png', '../../data/processed/BUSI/normal (12).png', '../../data/processed/BUSI/malignant (11).png', '../../data/processed/BUSI/benign (95).png', '../../data/processed/BUSI/benign (295).png', '../../data/processed/BUSI/normal (109).png', '../../data/processed/BUSI/normal (45).png', '../../data/processed/BUSI/benign (104).png', '../../data/processed/BUSI/malignant (46).png', '../../data/processed/BUSI/benign (411).png', '../../data/processed/BUSI/malignant (180).png', '../../data/processed/BUSI/benign (368).png', '../../data/processed/BUSI/benign (387).png', '../../data/processed/BUSI/benign (112).png', '../../data/processed/BUSI/normal (53).png', '../../data/processed/BUSI/malignant (179).png', '../../data/processed/BUSI/malignant (196).png', '../../data/processed/BUSI/benign (407).png', '../../data/processed/BUSI/malignant (50).png', '../../data/processed/BUSI/benign (391).png', '../../data/processed/BUSI/benign (145).png', '../../data/processed/BUSI/benign (83).png', '../../data/processed/BUSI/benign (329).png', '../../data/processed/BUSI/benign (283).png', '../../data/processed/BUSI/malignant (207).png', '../../data/processed/BUSI/malignant (125).png', '../../data/processed/BUSI/benign (67).png', '../../data/processed/BUSI/benign (88).png', '../../data/processed/BUSI/normal (114).png', '../../data/processed/BUSI/benign (288).png', '../../data/processed/BUSI/benign (322).png', '../../data/processed/BUSI/benign (267).png', '../../data/processed/BUSI/benign (30).png', '../../data/processed/BUSI/normal (58).png', '../../data/processed/BUSI/malignant (172).png', '../../data/processed/BUSI/benign (119).png', '../../data/processed/BUSI/benign (375).png', '../../data/processed/BUSI/benign (230).png', '../../data/processed/BUSI/malignant (164).png', '../../data/processed/BUSI/benign (26).png', '../../data/processed/BUSI/benign (363).png', '../../data/processed/BUSI/benign (226).png', '../../data/processed/BUSI/benign (71).png', '../../data/processed/BUSI/malignant (133).png', '../../data/processed/BUSI/normal (19).png', '../../data/processed/BUSI/benign (158).png', '../../data/processed/BUSI/benign (334).png', '../../data/processed/BUSI/normal (102).png', '../../data/processed/BUSI/benign (271).png', '../../data/processed/BUSI/benign (436).png', '../../data/processed/BUSI/benign (4).png', '../../data/processed/BUSI/malignant (61).png', '../../data/processed/BUSI/normal (62).png', '../../data/processed/BUSI/malignant (148).png', '../../data/processed/BUSI/benign (123).png', '../../data/processed/BUSI/malignant (36).png', '../../data/processed/BUSI/benign (174).png', '../../data/processed/BUSI/normal (35).png', '../../data/processed/BUSI/benign (318).png', '../../data/processed/BUSI/malignant (20).png', '../../data/processed/BUSI/malignant (109).png', '../../data/processed/BUSI/normal (23).png', '../../data/processed/BUSI/benign (162).png', '../../data/processed/BUSI/malignant (77).png', '../../data/processed/BUSI/benign (420).png', '../../data/processed/BUSI/benign (135).png', '../../data/processed/BUSI/normal (74).png', '../../data/processed/BUSI/malignant (98).png', '../../data/processed/BUSI/benign (359).png', '../../data/processed/BUSI/normal (118).png', '../../data/processed/BUSI/benign (284).png', '../../data/processed/BUSI/malignant (200).png', '../../data/processed/BUSI/malignant (129).png', '../../data/processed/BUSI/benign (142).png', '../../data/processed/BUSI/benign (84).png', '../../data/processed/BUSI/benign (379).png', '../../data/processed/BUSI/benign (396).png', '../../data/processed/BUSI/benign (115).png', '../../data/processed/BUSI/normal (54).png', '../../data/processed/BUSI/malignant (57).png', '../../data/processed/BUSI/malignant (191).png', '../../data/processed/BUSI/benign (400).png', '../../data/processed/BUSI/benign (380).png', '../../data/processed/BUSI/normal (42).png', '../../data/processed/BUSI/malignant (168).png', '../../data/processed/BUSI/benign (103).png', '../../data/processed/BUSI/benign (416).png', '../../data/processed/BUSI/malignant (187).png', '../../data/processed/BUSI/malignant (41).png', '../../data/processed/BUSI/benign (292).png', '../../data/processed/BUSI/benign (338).png', '../../data/processed/BUSI/benign (154).png', '../../data/processed/BUSI/normal (15).png', '../../data/processed/BUSI/malignant (16).png', '../../data/processed/BUSI/benign (92).png', '../../data/processed/BUSI/benign (206).png', '../../data/processed/BUSI/benign (343).png', '../../data/processed/BUSI/benign (8).png', '../../data/processed/BUSI/normal (81).png', '../../data/processed/BUSI/malignant (144).png', '../../data/processed/BUSI/malignant (82).png', '../../data/processed/BUSI/benign (251).png', '../../data/processed/BUSI/benign (314).png', '../../data/processed/BUSI/normal (122).png', '../../data/processed/BUSI/benign (197).png', '../../data/processed/BUSI/normal (6).png', '../../data/processed/BUSI/benign (51).png', '../../data/processed/BUSI/malignant (113).png', '../../data/processed/BUSI/normal (39).png', '../../data/processed/BUSI/benign (178).png', '../../data/processed/BUSI/benign (247).png', '../../data/processed/BUSI/benign (302).png', '../../data/processed/BUSI/benign (181).png', '../../data/processed/BUSI/malignant (105).png', '../../data/processed/BUSI/benign (47).png', '../../data/processed/BUSI/benign (210).png', '../../data/processed/BUSI/benign (355).png', '../../data/processed/BUSI/normal (97).png', '../../data/processed/BUSI/malignant (94).png', '../../data/processed/BUSI/benign (10).png', '../../data/processed/BUSI/normal (78).png', '../../data/processed/BUSI/malignant (152).png', '../../data/processed/BUSI/benign (139).png', '../../data/processed/BUSI/malignant (1).png', '../../data/processed/BUSI/normal (96).png', '../../data/processed/BUSI/malignant (95).png', '../../data/processed/BUSI/benign (11).png', '../../data/processed/BUSI/malignant (153).png', '../../data/processed/BUSI/normal (79).png', '../../data/processed/BUSI/benign (138).png', '../../data/processed/BUSI/benign (211).png', '../../data/processed/BUSI/benign (354).png', '../../data/processed/BUSI/benign (180).png', '../../data/processed/BUSI/malignant (104).png', '../../data/processed/BUSI/benign (46).png', '../../data/processed/BUSI/benign (246).png', '../../data/processed/BUSI/benign (303).png', '../../data/processed/BUSI/benign (196).png', '../../data/processed/BUSI/normal (7).png', '../../data/processed/BUSI/benign (50).png', '../../data/processed/BUSI/normal (38).png', '../../data/processed/BUSI/malignant (112).png', '../../data/processed/BUSI/benign (179).png', '../../data/processed/BUSI/benign (250).png', '../../data/processed/BUSI/benign (315).png', '../../data/processed/BUSI/normal (123).png', '../../data/processed/BUSI/benign (9).png', '../../data/processed/BUSI/normal (80).png', '../../data/processed/BUSI/malignant (145).png', '../../data/processed/BUSI/malignant (83).png', '../../data/processed/BUSI/benign (207).png', '../../data/processed/BUSI/benign (342).png', '../../data/processed/BUSI/benign (155).png', '../../data/processed/BUSI/normal (14).png', '../../data/processed/BUSI/malignant (17).png', '../../data/processed/BUSI/benign (93).png', '../../data/processed/BUSI/benign (293).png', '../../data/processed/BUSI/benign (339).png', '../../data/processed/BUSI/malignant (169).png', '../../data/processed/BUSI/normal (43).png', '../../data/processed/BUSI/benign (102).png', '../../data/processed/BUSI/benign (417).png', '../../data/processed/BUSI/malignant (186).png', '../../data/processed/BUSI/malignant (40).png', '../../data/processed/BUSI/benign (381).png', '../../data/processed/BUSI/benign (114).png', '../../data/processed/BUSI/normal (55).png', '../../data/processed/BUSI/malignant (56).png', '../../data/processed/BUSI/malignant (190).png', '../../data/processed/BUSI/benign (401).png', '../../data/processed/BUSI/benign (378).png', '../../data/processed/BUSI/benign (397).png', '../../data/processed/BUSI/malignant (128).png', '../../data/processed/BUSI/benign (143).png', '../../data/processed/BUSI/benign (85).png', '../../data/processed/BUSI/normal (119).png', '../../data/processed/BUSI/benign (285).png', '../../data/processed/BUSI/malignant (201).png', '../../data/processed/BUSI/benign (358).png', '../../data/processed/BUSI/malignant (76).png', '../../data/processed/BUSI/benign (421).png', '../../data/processed/BUSI/benign (134).png', '../../data/processed/BUSI/normal (75).png', '../../data/processed/BUSI/malignant (99).png', '../../data/processed/BUSI/malignant (21).png', '../../data/processed/BUSI/normal (22).png', '../../data/processed/BUSI/malignant (108).png', '../../data/processed/BUSI/benign (163).png', '../../data/processed/BUSI/benign (319).png', '../../data/processed/BUSI/malignant (37).png', '../../data/processed/BUSI/benign (175).png', '../../data/processed/BUSI/normal (34).png', '../../data/processed/BUSI/benign (437).png', '../../data/processed/BUSI/benign (5).png', '../../data/processed/BUSI/malignant (60).png', '../../data/processed/BUSI/malignant (149).png', '../../data/processed/BUSI/normal (63).png', '../../data/processed/BUSI/benign (122).png', '../../data/processed/BUSI/benign (335).png', '../../data/processed/BUSI/normal (103).png', '../../data/processed/BUSI/benign (270).png', '../../data/processed/BUSI/benign (70).png', '../../data/processed/BUSI/normal (18).png', '../../data/processed/BUSI/malignant (132).png', '../../data/processed/BUSI/benign (159).png', '../../data/processed/BUSI/benign (362).png', '../../data/processed/BUSI/benign (227).png', '../../data/processed/BUSI/malignant (165).png', '../../data/processed/BUSI/benign (27).png', '../../data/processed/BUSI/benign (374).png', '../../data/processed/BUSI/benign (231).png', '../../data/processed/BUSI/benign (31).png', '../../data/processed/BUSI/malignant (173).png', '../../data/processed/BUSI/normal (59).png', '../../data/processed/BUSI/benign (118).png', '../../data/processed/BUSI/normal (115).png', '../../data/processed/BUSI/benign (289).png', '../../data/processed/BUSI/benign (323).png', '../../data/processed/BUSI/benign (266).png', '../../data/processed/BUSI/malignant (124).png', '../../data/processed/BUSI/benign (66).png', '../../data/processed/BUSI/benign (89).png', '../../data/processed/BUSI/benign (137).png', '../../data/processed/BUSI/normal (76).png', '../../data/processed/BUSI/normal (99).png', '../../data/processed/BUSI/benign (422).png', '../../data/processed/BUSI/malignant (75).png', '../../data/processed/BUSI/benign (249).png', '../../data/processed/BUSI/normal (21).png', '../../data/processed/BUSI/benign (160).png', '../../data/processed/BUSI/benign (49).png', '../../data/processed/BUSI/malignant (22).png', '../../data/processed/BUSI/normal (8).png', '../../data/processed/BUSI/benign (176).png', '../../data/processed/BUSI/normal (37).png', '../../data/processed/BUSI/benign (199).png', '../../data/processed/BUSI/malignant (34).png', '../../data/processed/BUSI/benign (208).png', '../../data/processed/BUSI/normal (60).png', '../../data/processed/BUSI/benign (121).png', '../../data/processed/BUSI/benign (6).png', '../../data/processed/BUSI/malignant (63).png', '../../data/processed/BUSI/benign (434).png', '../../data/processed/BUSI/benign (273).png', '../../data/processed/BUSI/benign (336).png', '../../data/processed/BUSI/normal (100).png', '../../data/processed/BUSI/malignant (18).png', '../../data/processed/BUSI/malignant (131).png', '../../data/processed/BUSI/benign (73).png', '../../data/processed/BUSI/benign (224).png', '../../data/processed/BUSI/benign (361).png', '../../data/processed/BUSI/malignant (189).png', '../../data/processed/BUSI/benign (418).png', '../../data/processed/BUSI/benign (24).png', '../../data/processed/BUSI/malignant (166).png', '../../data/processed/BUSI/benign (232).png', '../../data/processed/BUSI/benign (398).png', '../../data/processed/BUSI/benign (377).png', '../../data/processed/BUSI/malignant (59).png', '../../data/processed/BUSI/malignant (170).png', '../../data/processed/BUSI/benign (32).png', '../../data/processed/BUSI/benign (265).png', '../../data/processed/BUSI/normal (116).png', '../../data/processed/BUSI/benign (320).png', '../../data/processed/BUSI/benign (65).png', '../../data/processed/BUSI/malignant (127).png', '../../data/processed/BUSI/malignant (150).png', '../../data/processed/BUSI/malignant (96).png', '../../data/processed/BUSI/benign (12).png', '../../data/processed/BUSI/malignant (79).png', '../../data/processed/BUSI/malignant (2).png', '../../data/processed/BUSI/normal (95).png', '../../data/processed/BUSI/benign (357).png', '../../data/processed/BUSI/benign (212).png', '../../data/processed/BUSI/benign (45).png', '../../data/processed/BUSI/malignant (107).png', '../../data/processed/BUSI/benign (183).png', '../../data/processed/BUSI/benign (300).png', '../../data/processed/BUSI/benign (245).png', '../../data/processed/BUSI/malignant (111).png', '../../data/processed/BUSI/normal (4).png', '../../data/processed/BUSI/benign (53).png', '../../data/processed/BUSI/malignant (38).png', '../../data/processed/BUSI/benign (195).png', '../../data/processed/BUSI/benign (316).png', '../../data/processed/BUSI/normal (120).png', '../../data/processed/BUSI/benign (253).png', '../../data/processed/BUSI/malignant (80).png', '../../data/processed/BUSI/malignant (146).png', '../../data/processed/BUSI/normal (83).png', '../../data/processed/BUSI/benign (341).png', '../../data/processed/BUSI/benign (204).png', '../../data/processed/BUSI/malignant (14).png', '../../data/processed/BUSI/benign (90).png', '../../data/processed/BUSI/benign (156).png', '../../data/processed/BUSI/normal (17).png', '../../data/processed/BUSI/benign (290).png', '../../data/processed/BUSI/malignant (43).png', '../../data/processed/BUSI/benign (414).png', '../../data/processed/BUSI/malignant (185).png', '../../data/processed/BUSI/normal (40).png', '../../data/processed/BUSI/benign (101).png', '../../data/processed/BUSI/benign (28).png', '../../data/processed/BUSI/benign (228).png', '../../data/processed/BUSI/benign (382).png', '../../data/processed/BUSI/malignant (193).png', '../../data/processed/BUSI/benign (402).png', '../../data/processed/BUSI/malignant (55).png', '../../data/processed/BUSI/benign (117).png', '../../data/processed/BUSI/normal (56).png', '../../data/processed/BUSI/benign (394).png', '../../data/processed/BUSI/benign (86).png', '../../data/processed/BUSI/benign (140).png', '../../data/processed/BUSI/benign (69).png', '../../data/processed/BUSI/benign (269).png', '../../data/processed/BUSI/malignant (202).png', '../../data/processed/BUSI/benign (286).png', '../../data/processed/BUSI/benign (268).png', '../../data/processed/BUSI/malignant (203).png', '../../data/processed/BUSI/benign (287).png', '../../data/processed/BUSI/benign (87).png', '../../data/processed/BUSI/benign (141).png', '../../data/processed/BUSI/benign (68).png', '../../data/processed/BUSI/benign (395).png', '../../data/processed/BUSI/malignant (192).png', '../../data/processed/BUSI/benign (403).png', '../../data/processed/BUSI/malignant (54).png', '../../data/processed/BUSI/benign (116).png', '../../data/processed/BUSI/normal (57).png', '../../data/processed/BUSI/benign (229).png', '../../data/processed/BUSI/benign (383).png', '../../data/processed/BUSI/malignant (42).png', '../../data/processed/BUSI/benign (415).png', '../../data/processed/BUSI/malignant (184).png', '../../data/processed/BUSI/normal (41).png', '../../data/processed/BUSI/benign (100).png', '../../data/processed/BUSI/benign (29).png', '../../data/processed/BUSI/benign (291).png', '../../data/processed/BUSI/malignant (15).png', '../../data/processed/BUSI/benign (91).png', '../../data/processed/BUSI/benign (157).png', '../../data/processed/BUSI/normal (16).png', '../../data/processed/BUSI/benign (340).png', '../../data/processed/BUSI/benign (205).png', '../../data/processed/BUSI/malignant (81).png', '../../data/processed/BUSI/malignant (147).png', '../../data/processed/BUSI/normal (82).png', '../../data/processed/BUSI/benign (317).png', '../../data/processed/BUSI/normal (121).png', '../../data/processed/BUSI/benign (252).png', '../../data/processed/BUSI/malignant (110).png', '../../data/processed/BUSI/normal (5).png', '../../data/processed/BUSI/benign (52).png', '../../data/processed/BUSI/malignant (39).png', '../../data/processed/BUSI/benign (194).png', '../../data/processed/BUSI/benign (301).png', '../../data/processed/BUSI/benign (244).png', '../../data/processed/BUSI/benign (44).png', '../../data/processed/BUSI/malignant (106).png', '../../data/processed/BUSI/benign (182).png', '../../data/processed/BUSI/benign (356).png', '../../data/processed/BUSI/benign (213).png', '../../data/processed/BUSI/malignant (151).png', '../../data/processed/BUSI/malignant (97).png', '../../data/processed/BUSI/benign (13).png', '../../data/processed/BUSI/malignant (78).png', '../../data/processed/BUSI/malignant (3).png', '../../data/processed/BUSI/normal (94).png', '../../data/processed/BUSI/benign (64).png', '../../data/processed/BUSI/malignant (126).png', '../../data/processed/BUSI/benign (264).png', '../../data/processed/BUSI/normal (117).png', '../../data/processed/BUSI/benign (321).png', '../../data/processed/BUSI/malignant (58).png', '../../data/processed/BUSI/malignant (171).png', '../../data/processed/BUSI/benign (33).png', '../../data/processed/BUSI/benign (233).png', '../../data/processed/BUSI/benign (399).png', '../../data/processed/BUSI/benign (376).png', '../../data/processed/BUSI/malignant (188).png', '../../data/processed/BUSI/benign (419).png', '../../data/processed/BUSI/benign (25).png', '../../data/processed/BUSI/malignant (167).png', '../../data/processed/BUSI/benign (225).png', '../../data/processed/BUSI/benign (360).png', '../../data/processed/BUSI/malignant (19).png', '../../data/processed/BUSI/malignant (130).png', '../../data/processed/BUSI/benign (72).png', '../../data/processed/BUSI/benign (272).png', '../../data/processed/BUSI/benign (337).png', '../../data/processed/BUSI/normal (101).png', '../../data/processed/BUSI/normal (61).png', '../../data/processed/BUSI/benign (120).png', '../../data/processed/BUSI/benign (7).png', '../../data/processed/BUSI/malignant (62).png', '../../data/processed/BUSI/benign (435).png', '../../data/processed/BUSI/benign (209).png', '../../data/processed/BUSI/normal (9).png', '../../data/processed/BUSI/benign (177).png', '../../data/processed/BUSI/normal (36).png', '../../data/processed/BUSI/benign (198).png', '../../data/processed/BUSI/malignant (35).png', '../../data/processed/BUSI/normal (20).png', '../../data/processed/BUSI/benign (161).png', '../../data/processed/BUSI/benign (48).png', '../../data/processed/BUSI/malignant (23).png', '../../data/processed/BUSI/benign (248).png', '../../data/processed/BUSI/benign (136).png', '../../data/processed/BUSI/normal (77).png', '../../data/processed/BUSI/normal (98).png', '../../data/processed/BUSI/benign (423).png', '../../data/processed/BUSI/malignant (74).png', '../../data/processed/BUSI/malignant (90).png', '../../data/processed/BUSI/benign (14).png', '../../data/processed/BUSI/malignant (156).png', '../../data/processed/BUSI/malignant (4).png', '../../data/processed/BUSI/benign (428).png', '../../data/processed/BUSI/normal (93).png', '../../data/processed/BUSI/benign (351).png', '../../data/processed/BUSI/benign (214).png', '../../data/processed/BUSI/malignant (101).png', '../../data/processed/BUSI/benign (43).png', '../../data/processed/BUSI/malignant (28).png', '../../data/processed/BUSI/benign (185).png', '../../data/processed/BUSI/normal (130).png', '../../data/processed/BUSI/benign (306).png', '../../data/processed/BUSI/benign (243).png', '../../data/processed/BUSI/normal (2).png', '../../data/processed/BUSI/benign (55).png', '../../data/processed/BUSI/malignant (117).png', '../../data/processed/BUSI/benign (193).png', '../../data/processed/BUSI/benign (310).png', '../../data/processed/BUSI/normal (126).png', '../../data/processed/BUSI/benign (255).png', '../../data/processed/BUSI/malignant (140).png', '../../data/processed/BUSI/malignant (86).png', '../../data/processed/BUSI/malignant (69).png', '../../data/processed/BUSI/normal (85).png', '../../data/processed/BUSI/benign (347).png', '../../data/processed/BUSI/benign (202).png', '../../data/processed/BUSI/malignant (12).png', '../../data/processed/BUSI/benign (96).png', '../../data/processed/BUSI/benign (150).png', '../../data/processed/BUSI/normal (11).png', '../../data/processed/BUSI/benign (79).png', '../../data/processed/BUSI/benign (279).png', '../../data/processed/BUSI/benign (296).png', '../../data/processed/BUSI/benign (412).png', '../../data/processed/BUSI/malignant (183).png', '../../data/processed/BUSI/malignant (45).png', '../../data/processed/BUSI/normal (46).png', '../../data/processed/BUSI/benign (107).png', '../../data/processed/BUSI/benign (384).png', '../../data/processed/BUSI/malignant (53).png', '../../data/processed/BUSI/malignant (195).png', '../../data/processed/BUSI/benign (404).png', '../../data/processed/BUSI/benign (111).png', '../../data/processed/BUSI/normal (50).png', '../../data/processed/BUSI/benign (38).png', '../../data/processed/BUSI/benign (392).png', '../../data/processed/BUSI/benign (238).png', '../../data/processed/BUSI/benign (80).png', '../../data/processed/BUSI/benign (146).png', '../../data/processed/BUSI/malignant (204).png', '../../data/processed/BUSI/benign (280).png', '../../data/processed/BUSI/benign (218).png', '../../data/processed/BUSI/benign (131).png', '../../data/processed/BUSI/normal (70).png', '../../data/processed/BUSI/benign (18).png', '../../data/processed/BUSI/malignant (73).png', '../../data/processed/BUSI/benign (424).png', '../../data/processed/BUSI/malignant (8).png', '../../data/processed/BUSI/normal (27).png', '../../data/processed/BUSI/benign (166).png', '../../data/processed/BUSI/benign (189).png', '../../data/processed/BUSI/malignant (24).png', '../../data/processed/BUSI/benign (259).png', '../../data/processed/BUSI/benign (170).png', '../../data/processed/BUSI/normal (31).png', '../../data/processed/BUSI/benign (59).png', '../../data/processed/BUSI/malignant (32).png', '../../data/processed/BUSI/normal (66).png', '../../data/processed/BUSI/benign (127).png', '../../data/processed/BUSI/benign (432).png', '../../data/processed/BUSI/normal (89).png', '../../data/processed/BUSI/malignant (65).png', '../../data/processed/BUSI/benign (275).png', '../../data/processed/BUSI/benign (330).png', '../../data/processed/BUSI/normal (106).png', '../../data/processed/BUSI/benign (75).png', '../../data/processed/BUSI/malignant (137).png', '../../data/processed/BUSI/benign (388).png', '../../data/processed/BUSI/benign (222).png', '../../data/processed/BUSI/benign (367).png', '../../data/processed/BUSI/malignant (49).png', '../../data/processed/BUSI/malignant (160).png', '../../data/processed/BUSI/benign (22).png', '../../data/processed/BUSI/benign (234).png', '../../data/processed/BUSI/benign (371).png', '../../data/processed/BUSI/benign (408).png', '../../data/processed/BUSI/malignant (199).png', '../../data/processed/BUSI/benign (34).png', '../../data/processed/BUSI/malignant (176).png', '../../data/processed/BUSI/malignant (208).png', '../../data/processed/BUSI/benign (263).png', '../../data/processed/BUSI/normal (110).png', '../../data/processed/BUSI/benign (326).png', '../../data/processed/BUSI/malignant (121).png', '../../data/processed/BUSI/benign (63).png', '../../data/processed/BUSI/malignant (120).png', '../../data/processed/BUSI/benign (62).png', '../../data/processed/BUSI/malignant (209).png', '../../data/processed/BUSI/benign (262).png', '../../data/processed/BUSI/normal (111).png', '../../data/processed/BUSI/benign (327).png', '../../data/processed/BUSI/benign (409).png', '../../data/processed/BUSI/malignant (198).png', '../../data/processed/BUSI/benign (35).png', '../../data/processed/BUSI/malignant (177).png', '../../data/processed/BUSI/benign (235).png', '../../data/processed/BUSI/benign (370).png', '../../data/processed/BUSI/malignant (48).png', '../../data/processed/BUSI/malignant (161).png', '../../data/processed/BUSI/benign (23).png', '../../data/processed/BUSI/benign (389).png', '../../data/processed/BUSI/benign (223).png', '../../data/processed/BUSI/benign (366).png', '../../data/processed/BUSI/benign (74).png', '../../data/processed/BUSI/malignant (136).png', '../../data/processed/BUSI/benign (274).png', '../../data/processed/BUSI/benign (331).png', '../../data/processed/BUSI/normal (107).png', '../../data/processed/BUSI/normal (67).png', '../../data/processed/BUSI/benign (126).png', '../../data/processed/BUSI/benign (433).png', '../../data/processed/BUSI/normal (88).png', '../../data/processed/BUSI/benign (1).png', '../../data/processed/BUSI/malignant (64).png', '../../data/processed/BUSI/benign (171).png', '../../data/processed/BUSI/normal (30).png', '../../data/processed/BUSI/benign (58).png', '../../data/processed/BUSI/malignant (33).png', '../../data/processed/BUSI/benign (258).png', '../../data/processed/BUSI/normal (26).png', '../../data/processed/BUSI/benign (167).png', '../../data/processed/BUSI/benign (188).png', '../../data/processed/BUSI/malignant (25).png', '../../data/processed/BUSI/benign (130).png', '../../data/processed/BUSI/normal (71).png', '../../data/processed/BUSI/benign (19).png', '../../data/processed/BUSI/malignant (72).png', '../../data/processed/BUSI/benign (425).png', '../../data/processed/BUSI/malignant (9).png', '../../data/processed/BUSI/benign (219).png', '../../data/processed/BUSI/malignant (205).png', '../../data/processed/BUSI/benign (281).png', '../../data/processed/BUSI/benign (81).png', '../../data/processed/BUSI/benign (147).png', '../../data/processed/BUSI/benign (393).png', '../../data/processed/BUSI/benign (239).png', '../../data/processed/BUSI/malignant (52).png', '../../data/processed/BUSI/malignant (194).png', '../../data/processed/BUSI/benign (405).png', '../../data/processed/BUSI/benign (110).png', '../../data/processed/BUSI/normal (51).png', '../../data/processed/BUSI/benign (39).png', '../../data/processed/BUSI/benign (385).png', '../../data/processed/BUSI/benign (413).png', '../../data/processed/BUSI/malignant (182).png', '../../data/processed/BUSI/malignant (44).png', '../../data/processed/BUSI/normal (47).png', '../../data/processed/BUSI/benign (106).png', '../../data/processed/BUSI/benign (278).png', '../../data/processed/BUSI/benign (297).png', '../../data/processed/BUSI/malignant (13).png', '../../data/processed/BUSI/benign (97).png', '../../data/processed/BUSI/benign (151).png', '../../data/processed/BUSI/normal (10).png', '../../data/processed/BUSI/benign (78).png', '../../data/processed/BUSI/benign (346).png', '../../data/processed/BUSI/benign (203).png', '../../data/processed/BUSI/malignant (141).png', '../../data/processed/BUSI/malignant (87).png', '../../data/processed/BUSI/malignant (68).png', '../../data/processed/BUSI/normal (84).png', '../../data/processed/BUSI/benign (311).png', '../../data/processed/BUSI/normal (127).png', '../../data/processed/BUSI/benign (254).png', '../../data/processed/BUSI/normal (3).png', '../../data/processed/BUSI/benign (54).png', '../../data/processed/BUSI/malignant (116).png', '../../data/processed/BUSI/benign (192).png', '../../data/processed/BUSI/normal (131).png', '../../data/processed/BUSI/benign (307).png', '../../data/processed/BUSI/benign (242).png', '../../data/processed/BUSI/malignant (100).png', '../../data/processed/BUSI/benign (42).png', '../../data/processed/BUSI/malignant (29).png', '../../data/processed/BUSI/benign (184).png', '../../data/processed/BUSI/benign (350).png', '../../data/processed/BUSI/benign (215).png', '../../data/processed/BUSI/malignant (91).png', '../../data/processed/BUSI/benign (15).png', '../../data/processed/BUSI/malignant (157).png', '../../data/processed/BUSI/malignant (5).png', '../../data/processed/BUSI/benign (429).png', '../../data/processed/BUSI/normal (92).png']\n",
      "Mean: [0.3279571831226349, 0.32795006036758423, 0.3279048502445221]\n",
      "Standard deviation: [0.202076256275177, 0.20207825303077698, 0.2020438313484192]\n"
     ]
    }
   ],
   "source": [
    "import torch\n",
    "from torchvision import transforms\n",
    "from PIL import Image\n",
    "import os\n",
    "\n",
    "transform = transforms.Compose([\n",
    "    transforms.ToTensor(),\n",
    "])\n",
    "\n",
    "folder_path = '../../data/processed/BUSI/'\n",
    "\n",
    "if os.path.exists(folder_path + '.DS_Store'):\n",
    "    os.remove(folder_path + '.DS_Store')\n",
    "\n",
    "image_paths = [os.path.join(folder_path, img) for img in os.listdir(folder_path)]\n",
    "\n",
    "print(image_paths)\n",
    "\n",
    "mean_sum = torch.zeros(3)\n",
    "std_sum = torch.zeros(3)\n",
    "\n",
    "for img_path in image_paths:\n",
    "    img = Image.open(img_path).convert('RGB')\n",
    "    img_tensor = transform(img)\n",
    "    mean_sum += img_tensor.mean(dim=(1, 2))\n",
    "    std_sum += img_tensor.std(dim=(1, 2))\n",
    "\n",
    "mean = mean_sum / len(image_paths)\n",
    "std = std_sum / len(image_paths)\n",
    "\n",
    "mean = mean.tolist()\n",
    "std = std.tolist()\n",
    "\n",
    "print(\"Mean:\", mean)\n",
    "print(\"Standard deviation:\", std)\n"
   ]
  },
  {
   "cell_type": "code",
   "execution_count": 2,
   "metadata": {},
   "outputs": [],
   "source": [
    "from torch.utils.data import Dataset\n",
    "from PIL import Image\n",
    "import os\n",
    "\n",
    "def pil_loader(path):\n",
    "    with open(path, 'rb') as f:\n",
    "        img = Image.open(f)\n",
    "        return img.convert('RGB')\n",
    "\n",
    "class BUSIDataset(Dataset):\n",
    "    def __init__(self, root_dir, transform=None):\n",
    "        self.root_dir = root_dir\n",
    "        self.transform = transform\n",
    "        self.image_files = os.listdir(root_dir)\n",
    "\n",
    "    def __len__(self):\n",
    "        return len(self.image_files)\n",
    "\n",
    "    def __getitem__(self, idx):\n",
    "        img_name = os.path.join(self.root_dir, self.image_files[idx])\n",
    "        image = pil_loader(img_name)\n",
    "        label = self._get_label(img_name)\n",
    "        if self.transform:\n",
    "            image = self.transform(image)\n",
    "        return image, label\n",
    "\n",
    "    def _get_label(self, filename):\n",
    "        if 'normal' in filename:\n",
    "            label = 0\n",
    "        elif 'benign' in filename:\n",
    "            label = 1\n",
    "        elif 'malignant' in filename:\n",
    "            label = 2\n",
    "        return label\n",
    "\n",
    "transform = transforms.Compose([\n",
    "    transforms.Resize(256),\n",
    "    transforms.CenterCrop(224),\n",
    "    transforms.ToTensor(),\n",
    "    transforms.Normalize(mean=mean, std=std),\n",
    "])\n",
    "\n",
    "dataset = BUSIDataset(root_dir='../../data/processed/BUSI/', transform=transform)"
   ]
  },
  {
   "cell_type": "code",
   "execution_count": 3,
   "metadata": {},
   "outputs": [
    {
     "name": "stdout",
     "output_type": "stream",
     "text": [
      "['../../data/processed/Dataset (B)/benign (82).png', '../../data/processed/Dataset (B)/malignant (51).png', '../../data/processed/Dataset (B)/benign (105).png', '../../data/processed/Dataset (B)/malignant (47).png', '../../data/processed/Dataset (B)/malignant (10).png', '../../data/processed/Dataset (B)/benign (94).png', '../../data/processed/Dataset (B)/benign (57).png', '../../data/processed/Dataset (B)/benign (41).png', '../../data/processed/Dataset (B)/malignant (6).png', '../../data/processed/Dataset (B)/benign (16).png', '../../data/processed/Dataset (B)/benign (61).png', '../../data/processed/Dataset (B)/benign (36).png', '../../data/processed/Dataset (B)/benign (20).png', '../../data/processed/Dataset (B)/benign (109).png', '../../data/processed/Dataset (B)/benign (77).png', '../../data/processed/Dataset (B)/benign (98).png', '../../data/processed/Dataset (B)/benign (2).png', '../../data/processed/Dataset (B)/malignant (30).png', '../../data/processed/Dataset (B)/malignant (26).png', '../../data/processed/Dataset (B)/malignant (27).png', '../../data/processed/Dataset (B)/malignant (31).png', '../../data/processed/Dataset (B)/benign (3).png', '../../data/processed/Dataset (B)/benign (76).png', '../../data/processed/Dataset (B)/benign (99).png', '../../data/processed/Dataset (B)/benign (21).png', '../../data/processed/Dataset (B)/benign (108).png', '../../data/processed/Dataset (B)/benign (37).png', '../../data/processed/Dataset (B)/benign (60).png', '../../data/processed/Dataset (B)/malignant (7).png', '../../data/processed/Dataset (B)/benign (17).png', '../../data/processed/Dataset (B)/benign (40).png', '../../data/processed/Dataset (B)/benign (56).png', '../../data/processed/Dataset (B)/malignant (11).png', '../../data/processed/Dataset (B)/benign (95).png', '../../data/processed/Dataset (B)/benign (104).png', '../../data/processed/Dataset (B)/malignant (46).png', '../../data/processed/Dataset (B)/malignant (50).png', '../../data/processed/Dataset (B)/benign (83).png', '../../data/processed/Dataset (B)/benign (67).png', '../../data/processed/Dataset (B)/benign (88).png', '../../data/processed/Dataset (B)/benign (30).png', '../../data/processed/Dataset (B)/benign (26).png', '../../data/processed/Dataset (B)/benign (71).png', '../../data/processed/Dataset (B)/benign (4).png', '../../data/processed/Dataset (B)/malignant (36).png', '../../data/processed/Dataset (B)/malignant (20).png', '../../data/processed/Dataset (B)/benign (84).png', '../../data/processed/Dataset (B)/benign (103).png', '../../data/processed/Dataset (B)/malignant (41).png', '../../data/processed/Dataset (B)/malignant (16).png', '../../data/processed/Dataset (B)/benign (92).png', '../../data/processed/Dataset (B)/benign (8).png', '../../data/processed/Dataset (B)/benign (51).png', '../../data/processed/Dataset (B)/benign (47).png', '../../data/processed/Dataset (B)/benign (10).png', '../../data/processed/Dataset (B)/malignant (1).png', '../../data/processed/Dataset (B)/benign (11).png', '../../data/processed/Dataset (B)/benign (46).png', '../../data/processed/Dataset (B)/benign (50).png', '../../data/processed/Dataset (B)/benign (9).png', '../../data/processed/Dataset (B)/malignant (17).png', '../../data/processed/Dataset (B)/benign (93).png', '../../data/processed/Dataset (B)/benign (102).png', '../../data/processed/Dataset (B)/malignant (40).png', '../../data/processed/Dataset (B)/benign (85).png', '../../data/processed/Dataset (B)/malignant (21).png', '../../data/processed/Dataset (B)/malignant (37).png', '../../data/processed/Dataset (B)/benign (5).png', '../../data/processed/Dataset (B)/benign (70).png', '../../data/processed/Dataset (B)/benign (27).png', '../../data/processed/Dataset (B)/benign (31).png', '../../data/processed/Dataset (B)/benign (66).png', '../../data/processed/Dataset (B)/benign (89).png', '../../data/processed/Dataset (B)/benign (49).png', '../../data/processed/Dataset (B)/malignant (22).png', '../../data/processed/Dataset (B)/malignant (34).png', '../../data/processed/Dataset (B)/benign (6).png', '../../data/processed/Dataset (B)/malignant (18).png', '../../data/processed/Dataset (B)/benign (73).png', '../../data/processed/Dataset (B)/benign (24).png', '../../data/processed/Dataset (B)/benign (32).png', '../../data/processed/Dataset (B)/benign (65).png', '../../data/processed/Dataset (B)/benign (12).png', '../../data/processed/Dataset (B)/malignant (2).png', '../../data/processed/Dataset (B)/benign (45).png', '../../data/processed/Dataset (B)/benign (53).png', '../../data/processed/Dataset (B)/malignant (38).png', '../../data/processed/Dataset (B)/malignant (14).png', '../../data/processed/Dataset (B)/benign (90).png', '../../data/processed/Dataset (B)/malignant (43).png', '../../data/processed/Dataset (B)/benign (101).png', '../../data/processed/Dataset (B)/benign (28).png', '../../data/processed/Dataset (B)/benign (86).png', '../../data/processed/Dataset (B)/benign (69).png', '../../data/processed/Dataset (B)/benign (87).png', '../../data/processed/Dataset (B)/benign (68).png', '../../data/processed/Dataset (B)/malignant (54).png', '../../data/processed/Dataset (B)/malignant (42).png', '../../data/processed/Dataset (B)/benign (100).png', '../../data/processed/Dataset (B)/benign (29).png', '../../data/processed/Dataset (B)/malignant (15).png', '../../data/processed/Dataset (B)/benign (91).png', '../../data/processed/Dataset (B)/benign (52).png', '../../data/processed/Dataset (B)/malignant (39).png', '../../data/processed/Dataset (B)/benign (44).png', '../../data/processed/Dataset (B)/benign (13).png', '../../data/processed/Dataset (B)/malignant (3).png', '../../data/processed/Dataset (B)/benign (64).png', '../../data/processed/Dataset (B)/benign (33).png', '../../data/processed/Dataset (B)/benign (25).png', '../../data/processed/Dataset (B)/malignant (19).png', '../../data/processed/Dataset (B)/benign (72).png', '../../data/processed/Dataset (B)/benign (7).png', '../../data/processed/Dataset (B)/malignant (35).png', '../../data/processed/Dataset (B)/benign (48).png', '../../data/processed/Dataset (B)/malignant (23).png', '../../data/processed/Dataset (B)/benign (14).png', '../../data/processed/Dataset (B)/malignant (4).png', '../../data/processed/Dataset (B)/benign (43).png', '../../data/processed/Dataset (B)/malignant (28).png', '../../data/processed/Dataset (B)/benign (55).png', '../../data/processed/Dataset (B)/malignant (12).png', '../../data/processed/Dataset (B)/benign (96).png', '../../data/processed/Dataset (B)/benign (79).png', '../../data/processed/Dataset (B)/malignant (45).png', '../../data/processed/Dataset (B)/benign (107).png', '../../data/processed/Dataset (B)/malignant (53).png', '../../data/processed/Dataset (B)/benign (38).png', '../../data/processed/Dataset (B)/benign (80).png', '../../data/processed/Dataset (B)/benign (18).png', '../../data/processed/Dataset (B)/malignant (8).png', '../../data/processed/Dataset (B)/malignant (24).png', '../../data/processed/Dataset (B)/benign (59).png', '../../data/processed/Dataset (B)/malignant (32).png', '../../data/processed/Dataset (B)/benign (75).png', '../../data/processed/Dataset (B)/malignant (49).png', '../../data/processed/Dataset (B)/benign (22).png', '../../data/processed/Dataset (B)/benign (34).png', '../../data/processed/Dataset (B)/benign (63).png', '../../data/processed/Dataset (B)/benign (62).png', '../../data/processed/Dataset (B)/benign (35).png', '../../data/processed/Dataset (B)/malignant (48).png', '../../data/processed/Dataset (B)/benign (23).png', '../../data/processed/Dataset (B)/benign (74).png', '../../data/processed/Dataset (B)/benign (1).png', '../../data/processed/Dataset (B)/benign (58).png', '../../data/processed/Dataset (B)/malignant (33).png', '../../data/processed/Dataset (B)/malignant (25).png', '../../data/processed/Dataset (B)/benign (19).png', '../../data/processed/Dataset (B)/malignant (9).png', '../../data/processed/Dataset (B)/benign (81).png', '../../data/processed/Dataset (B)/malignant (52).png', '../../data/processed/Dataset (B)/benign (39).png', '../../data/processed/Dataset (B)/malignant (44).png', '../../data/processed/Dataset (B)/benign (106).png', '../../data/processed/Dataset (B)/malignant (13).png', '../../data/processed/Dataset (B)/benign (97).png', '../../data/processed/Dataset (B)/benign (78).png', '../../data/processed/Dataset (B)/benign (54).png', '../../data/processed/Dataset (B)/benign (42).png', '../../data/processed/Dataset (B)/malignant (29).png', '../../data/processed/Dataset (B)/benign (15).png', '../../data/processed/Dataset (B)/malignant (5).png']\n",
      "Mean: [0.24797911942005157, 0.24797911942005157, 0.24797911942005157]\n",
      "Standard deviation: [0.15146149694919586, 0.15146149694919586, 0.15146149694919586]\n"
     ]
    }
   ],
   "source": [
    "transform = transforms.Compose([\n",
    "    transforms.ToTensor(),\n",
    "])\n",
    "\n",
    "folder_path = '../../data/processed/Dataset (B)/'\n",
    "\n",
    "if os.path.exists(folder_path + '.DS_Store'):\n",
    "    os.remove(folder_path + '.DS_Store')\n",
    "\n",
    "image_paths = [os.path.join(folder_path, img) for img in os.listdir(folder_path)]\n",
    "\n",
    "print(image_paths)\n",
    "\n",
    "mean_sum = torch.zeros(3)\n",
    "std_sum = torch.zeros(3)\n",
    "\n",
    "for img_path in image_paths:\n",
    "    img = Image.open(img_path).convert('RGB')\n",
    "    img_tensor = transform(img)\n",
    "    mean_sum += img_tensor.mean(dim=(1, 2))\n",
    "    std_sum += img_tensor.std(dim=(1, 2))\n",
    "\n",
    "mean = mean_sum / len(image_paths)\n",
    "std = std_sum / len(image_paths)\n",
    "\n",
    "mean = mean.tolist()\n",
    "std = std.tolist()\n",
    "\n",
    "print(\"Mean:\", mean)\n",
    "print(\"Standard deviation:\", std)"
   ]
  },
  {
   "cell_type": "code",
   "execution_count": 4,
   "metadata": {},
   "outputs": [],
   "source": [
    "def pil_loader(path):\n",
    "    with open(path, 'rb') as f:\n",
    "        img = Image.open(f)\n",
    "        return img.convert('RGB')\n",
    "\n",
    "class DatasetB(Dataset):\n",
    "    def __init__(self, root_dir, transform=None):\n",
    "        self.root_dir = root_dir\n",
    "        self.transform = transform\n",
    "        self.image_files = os.listdir(root_dir)\n",
    "\n",
    "    def __len__(self):\n",
    "        return len(self.image_files)\n",
    "\n",
    "    def __getitem__(self, idx):\n",
    "        img_name = os.path.join(self.root_dir, self.image_files[idx])\n",
    "        image = pil_loader(img_name)  # Load image using pil_loader\n",
    "        label = self._get_label(img_name)\n",
    "        if self.transform:\n",
    "            image = self.transform(image)\n",
    "        return image, label\n",
    "\n",
    "    def _get_label(self, filename):\n",
    "        if 'normal' in filename:\n",
    "            label = 0\n",
    "        elif 'benign' in filename:\n",
    "            label = 1\n",
    "        elif 'malignant' in filename:\n",
    "            label = 2\n",
    "        return label\n",
    "\n",
    "transform = transforms.Compose([\n",
    "    transforms.Resize(256),\n",
    "    transforms.CenterCrop(224),\n",
    "    transforms.ToTensor(),\n",
    "    transforms.Normalize(mean=mean, std=std),\n",
    "])\n",
    "\n",
    "eval_dataset = DatasetB(root_dir='../../data/processed/Dataset (B)/', transform=transform)\n"
   ]
  },
  {
   "cell_type": "code",
   "execution_count": 5,
   "metadata": {},
   "outputs": [
    {
     "name": "stdout",
     "output_type": "stream",
     "text": [
      "(tensor([[[-0.3168, -0.4203, -0.4462,  ...,  1.3921,  1.0814,  0.6930],\n",
      "         [-0.4721, -0.3686, -0.2909,  ...,  1.0814,  1.0814,  0.9260],\n",
      "         [-0.3168, -0.1096, -0.0061,  ...,  0.1234, -0.0579, -0.0579],\n",
      "         ...,\n",
      "         [-1.0417, -1.1194, -1.0676,  ..., -0.5239, -0.6275, -0.7051],\n",
      "         [-1.1453, -1.0417, -0.8346,  ..., -0.7828, -0.7310, -0.9382],\n",
      "         [-0.8605, -0.6534, -0.4462,  ..., -1.1712, -0.8605, -0.8605]],\n",
      "\n",
      "        [[-0.3168, -0.4203, -0.4462,  ...,  1.3921,  1.0814,  0.6930],\n",
      "         [-0.4721, -0.3686, -0.2909,  ...,  1.0814,  1.0814,  0.9260],\n",
      "         [-0.3168, -0.1096, -0.0061,  ...,  0.1234, -0.0579, -0.0579],\n",
      "         ...,\n",
      "         [-1.0417, -1.1194, -1.0676,  ..., -0.5239, -0.6275, -0.7051],\n",
      "         [-1.1453, -1.0417, -0.8346,  ..., -0.7828, -0.7310, -0.9382],\n",
      "         [-0.8605, -0.6534, -0.4462,  ..., -1.1712, -0.8605, -0.8605]],\n",
      "\n",
      "        [[-0.3168, -0.4203, -0.4462,  ...,  1.3921,  1.0814,  0.6930],\n",
      "         [-0.4721, -0.3686, -0.2909,  ...,  1.0814,  1.0814,  0.9260],\n",
      "         [-0.3168, -0.1096, -0.0061,  ...,  0.1234, -0.0579, -0.0579],\n",
      "         ...,\n",
      "         [-1.0417, -1.1194, -1.0676,  ..., -0.5239, -0.6275, -0.7051],\n",
      "         [-1.1453, -1.0417, -0.8346,  ..., -0.7828, -0.7310, -0.9382],\n",
      "         [-0.8605, -0.6534, -0.4462,  ..., -1.1712, -0.8605, -0.8605]]]), 1)\n"
     ]
    }
   ],
   "source": [
    "print(eval_dataset[0])"
   ]
  },
  {
   "cell_type": "markdown",
   "metadata": {},
   "source": [
    "# Loading & Modifying ResNet-50 Model"
   ]
  },
  {
   "cell_type": "code",
   "execution_count": 6,
   "metadata": {},
   "outputs": [
    {
     "name": "stderr",
     "output_type": "stream",
     "text": [
      "Using cache found in /Users/ahmedmahmoud/.cache/torch/hub/pytorch_vision_v0.10.0\n",
      "/Users/ahmedmahmoud/Desktop/Uni/Semester 8/GP24_Ahmed_EmbeddedBreastCancer/Code/breast-cancer-diagnosis/env/lib/python3.10/site-packages/torchvision/models/_utils.py:208: UserWarning: The parameter 'pretrained' is deprecated since 0.13 and may be removed in the future, please use 'weights' instead.\n",
      "  warnings.warn(\n",
      "/Users/ahmedmahmoud/Desktop/Uni/Semester 8/GP24_Ahmed_EmbeddedBreastCancer/Code/breast-cancer-diagnosis/env/lib/python3.10/site-packages/torchvision/models/_utils.py:223: UserWarning: Arguments other than a weight enum or `None` for 'weights' are deprecated since 0.13 and may be removed in the future. The current behavior is equivalent to passing `weights=ResNet50_Weights.IMAGENET1K_V1`. You can also use `weights=ResNet50_Weights.DEFAULT` to get the most up-to-date weights.\n",
      "  warnings.warn(msg)\n"
     ]
    }
   ],
   "source": [
    "import torch\n",
    "import ssl\n",
    "from contextlib import redirect_stdout\n",
    "ssl._create_default_https_context = ssl._create_unverified_context\n",
    "\n",
    "model = torch.hub.load('pytorch/vision:v0.10.0', 'resnet50', pretrained=True)\n",
    "\n",
    "with redirect_stdout(None):\n",
    "    model.eval()\n"
   ]
  },
  {
   "cell_type": "code",
   "execution_count": 7,
   "metadata": {},
   "outputs": [],
   "source": [
    "from torch.utils.data import DataLoader\n",
    "\n",
    "train_loader = DataLoader(dataset, batch_size=16, shuffle=True)\n",
    "test_loader = DataLoader(eval_dataset, batch_size=16, shuffle=True)"
   ]
  },
  {
   "cell_type": "code",
   "execution_count": 8,
   "metadata": {},
   "outputs": [
    {
     "name": "stdout",
     "output_type": "stream",
     "text": [
      "2048\n"
     ]
    }
   ],
   "source": [
    "num_features = model.fc.in_features\n",
    "print(num_features)"
   ]
  },
  {
   "cell_type": "code",
   "execution_count": 9,
   "metadata": {},
   "outputs": [],
   "source": [
    "num_classes = 3\n",
    "new_fc_layers = [\n",
    "    torch.nn.Linear(num_features, 512),\n",
    "    torch.nn.ReLU(),\n",
    "    torch.nn.Dropout(0.5),\n",
    "    torch.nn.Linear(512, 256),\n",
    "    torch.nn.ReLU(),\n",
    "    torch.nn.Dropout(0.5),\n",
    "    torch.nn.Linear(256, num_classes)\n",
    "]\n",
    "model.fc = torch.nn.Sequential(*new_fc_layers)"
   ]
  },
  {
   "cell_type": "code",
   "execution_count": 10,
   "metadata": {},
   "outputs": [],
   "source": [
    "criterion = torch.nn.CrossEntropyLoss()\n",
    "optimizer = torch.optim.Adam(model.parameters(), lr=0.001)"
   ]
  },
  {
   "cell_type": "code",
   "execution_count": 11,
   "metadata": {},
   "outputs": [],
   "source": [
    "num_epochs = 20\n",
    "\n",
    "# model.history\n",
    "\n",
    "for epoch in range(num_epochs):\n",
    "    model.train()\n",
    "    \n",
    "    for inputs, labels in train_loader:\n",
    "        inputs, labels = inputs.to('cpu'), labels.to('cpu')\n",
    "        optimizer.zero_grad()\n",
    "        \n",
    "        outputs = model(inputs)\n",
    "        loss = criterion(outputs, labels)\n",
    "        \n",
    "        loss.backward()\n",
    "        optimizer.step()\n"
   ]
  },
  {
   "cell_type": "code",
   "execution_count": null,
   "metadata": {},
   "outputs": [],
   "source": [
    "model.eval()\n",
    "\n",
    "correct = 0\n",
    "total = 0\n",
    "\n",
    "with torch.no_grad():\n",
    "    for inputs, labels in test_loader:\n",
    "        \n",
    "        outputs = model(inputs)\n",
    "        _, predicted = torch.max(outputs.data, 1)\n",
    "        \n",
    "        total += labels.size(0)\n",
    "        correct += (predicted == labels).sum().item()\n",
    "\n",
    "accuracy = correct / total\n",
    "print(f'Accuracy on test set: {accuracy}')"
   ]
  }
 ],
 "metadata": {
  "kernelspec": {
   "display_name": "Python 3",
   "language": "python",
   "name": "python3"
  },
  "language_info": {
   "codemirror_mode": {
    "name": "ipython",
    "version": 3
   },
   "file_extension": ".py",
   "mimetype": "text/x-python",
   "name": "python",
   "nbconvert_exporter": "python",
   "pygments_lexer": "ipython3",
   "version": "3.10.4"
  }
 },
 "nbformat": 4,
 "nbformat_minor": 2
}
