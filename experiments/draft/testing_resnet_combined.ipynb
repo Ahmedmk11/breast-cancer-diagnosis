{
 "cells": [
  {
   "cell_type": "markdown",
   "metadata": {},
   "source": [
    "# Data Preprocessing"
   ]
  },
  {
   "cell_type": "code",
   "execution_count": 1,
   "metadata": {},
   "outputs": [
    {
     "name": "stdout",
     "output_type": "stream",
     "text": [
      "['../../data/processed/Combined/Train/BUSI_benign (33).png', '../../data/processed/Combined/Train/BUSI_benign (9).png', '../../data/processed/Combined/Train/BUSI_malignant (39).png', '../../data/processed/Combined/Train/BUSI_benign (125).png', '../../data/processed/Combined/Train/Dataset_B_benign (3).png', '../../data/processed/Combined/Train/BUSI_benign (64).png', '../../data/processed/Combined/Train/BUSI_malignant (137).png', '../../data/processed/Combined/Train/Dataset_B_benign (19).png', '../../data/processed/Combined/Train/BUSI_malignant (81).png', '../../data/processed/Combined/Train/Dataset_B_malignant (37).png', '../../data/processed/Combined/Train/BUSI_normal (7).png', '../../data/processed/Combined/Train/BUSI_benign (172).png', '../../data/processed/Combined/Train/BUSI_malignant (121).png', '../../data/processed/Combined/Train/BUSI_benign (72).png', '../../data/processed/Combined/Train/BUSI_malignant (97).png', '../../data/processed/Combined/Train/BUSI_benign (164).png', '../../data/processed/Combined/Train/BUSI_malignant (78).png', '../../data/processed/Combined/Train/Dataset_B_malignant (21).png', '../../data/processed/Combined/Train/BUSI_benign (25).png', '../../data/processed/Combined/Train/Dataset_B_benign (58).png', '../../data/processed/Combined/Train/BUSI_benign (133).png', '../../data/processed/Combined/Train/Dataset_B_benign (23).png', '../../data/processed/Combined/Train/BUSI_malignant (7).png', '../../data/processed/Combined/Train/BUSI_benign (261).png', '../../data/processed/Combined/Train/BUSI_normal (36).png', '../../data/processed/Combined/Train/BUSI_malignant (54).png', '../../data/processed/Combined/Train/BUSI_benign (148).png', '../../data/processed/Combined/Train/Dataset_B_benign (74).png', '../../data/processed/Combined/Train/BUSI_benign (236).png', '../../data/processed/Combined/Train/BUSI_normal (61).png', '../../data/processed/Combined/Train/Dataset_B_benign (62).png', '../../data/processed/Combined/Train/BUSI_normal (77).png', '../../data/processed/Combined/Train/BUSI_benign (220).png', '../../data/processed/Combined/Train/BUSI_benign (109).png', '../../data/processed/Combined/Train/BUSI_malignant (15).png', '../../data/processed/Combined/Train/BUSI_benign (298).png', '../../data/processed/Combined/Train/Dataset_B_benign (35).png', '../../data/processed/Combined/Train/BUSI_normal (20).png', '../../data/processed/Combined/Train/BUSI_benign (277).png', '../../data/processed/Combined/Train/BUSI_benign (48).png', '../../data/processed/Combined/Train/BUSI_malignant (42).png', '../../data/processed/Combined/Train/BUSI_benign (5).png', '../../data/processed/Combined/Train/BUSI_benign (129).png', '../../data/processed/Combined/Train/BUSI_malignant (35).png', '../../data/processed/Combined/Train/BUSI_normal (57).png', '../../data/processed/Combined/Train/BUSI_benign (200).png', '../../data/processed/Combined/Train/Dataset_B_benign (42).png', '../../data/processed/Combined/Train/BUSI_benign (191).png', '../../data/processed/Combined/Train/BUSI_malignant (62).png', '../../data/processed/Combined/Train/BUSI_benign (257).png', '../../data/processed/Combined/Train/BUSI_benign (68).png', '../../data/processed/Combined/Train/BUSI_benign (87).png', '../../data/processed/Combined/Train/Dataset_B_benign (15).png', '../../data/processed/Combined/Train/BUSI_benign (187).png', '../../data/processed/Combined/Train/BUSI_malignant (74).png', '../../data/processed/Combined/Train/BUSI_benign (168).png', '../../data/processed/Combined/Train/BUSI_benign (241).png', '../../data/processed/Combined/Train/BUSI_normal (16).png', '../../data/processed/Combined/Train/BUSI_benign (304).png', '../../data/processed/Combined/Train/BUSI_benign (91).png', '../../data/processed/Combined/Train/BUSI_malignant (23).png', '../../data/processed/Combined/Train/BUSI_benign (216).png', '../../data/processed/Combined/Train/BUSI_normal (41).png', '../../data/processed/Combined/Train/BUSI_benign (29).png', '../../data/processed/Combined/Train/Dataset_B_benign (54).png', '../../data/processed/Combined/Train/BUSI_benign (144).png', '../../data/processed/Combined/Train/BUSI_malignant (58).png', '../../data/processed/Combined/Train/BUSI_benign (282).png', '../../data/processed/Combined/Train/BUSI_malignant (101).png', '../../data/processed/Combined/Train/BUSI_benign (52).png', '../../data/processed/Combined/Train/BUSI_benign (113).png', '../../data/processed/Combined/Train/BUSI_normal (82).png', '../../data/processed/Combined/Train/BUSI_malignant (19).png', '../../data/processed/Combined/Train/BUSI_benign (105).png', '../../data/processed/Combined/Train/BUSI_malignant (140).png', '../../data/processed/Combined/Train/BUSI_benign (13).png', '../../data/processed/Combined/Train/Dataset_B_malignant (17).png', '../../data/processed/Combined/Train/BUSI_benign (152).png', '../../data/processed/Combined/Train/Dataset_B_benign (39).png', '../../data/processed/Combined/Train/BUSI_benign (294).png', '../../data/processed/Combined/Train/BUSI_benign (44).png', '../../data/processed/Combined/Train/BUSI_malignant (117).png', '../../data/processed/Combined/Train/Dataset_B_benign (38).png', '../../data/processed/Combined/Train/BUSI_benign (295).png', '../../data/processed/Combined/Train/BUSI_benign (45).png', '../../data/processed/Combined/Train/BUSI_malignant (116).png', '../../data/processed/Combined/Train/Dataset_B_malignant (16).png', '../../data/processed/Combined/Train/BUSI_benign (153).png', '../../data/processed/Combined/Train/BUSI_malignant (141).png', '../../data/processed/Combined/Train/BUSI_benign (12).png', '../../data/processed/Combined/Train/BUSI_benign (104).png', '../../data/processed/Combined/Train/BUSI_malignant (18).png', '../../data/processed/Combined/Train/BUSI_normal (83).png', '../../data/processed/Combined/Train/BUSI_benign (112).png', '../../data/processed/Combined/Train/BUSI_benign (283).png', '../../data/processed/Combined/Train/BUSI_malignant (100).png', '../../data/processed/Combined/Train/BUSI_benign (53).png', '../../data/processed/Combined/Train/BUSI_malignant (59).png', '../../data/processed/Combined/Train/BUSI_benign (145).png', '../../data/processed/Combined/Train/BUSI_normal (40).png', '../../data/processed/Combined/Train/BUSI_benign (217).png', '../../data/processed/Combined/Train/BUSI_benign (28).png', '../../data/processed/Combined/Train/Dataset_B_benign (55).png', '../../data/processed/Combined/Train/BUSI_malignant (22).png', '../../data/processed/Combined/Train/BUSI_normal (17).png', '../../data/processed/Combined/Train/BUSI_benign (240).png', '../../data/processed/Combined/Train/BUSI_benign (305).png', '../../data/processed/Combined/Train/BUSI_benign (90).png', '../../data/processed/Combined/Train/BUSI_benign (186).png', '../../data/processed/Combined/Train/BUSI_benign (169).png', '../../data/processed/Combined/Train/BUSI_malignant (75).png', '../../data/processed/Combined/Train/BUSI_benign (256).png', '../../data/processed/Combined/Train/BUSI_benign (69).png', '../../data/processed/Combined/Train/BUSI_benign (86).png', '../../data/processed/Combined/Train/Dataset_B_benign (14).png', '../../data/processed/Combined/Train/BUSI_benign (190).png', '../../data/processed/Combined/Train/BUSI_malignant (63).png', '../../data/processed/Combined/Train/BUSI_benign (201).png', '../../data/processed/Combined/Train/BUSI_normal (56).png', '../../data/processed/Combined/Train/Dataset_B_benign (43).png', '../../data/processed/Combined/Train/BUSI_benign (4).png', '../../data/processed/Combined/Train/BUSI_malignant (34).png', '../../data/processed/Combined/Train/BUSI_benign (128).png', '../../data/processed/Combined/Train/BUSI_malignant (43).png', '../../data/processed/Combined/Train/BUSI_benign (299).png', '../../data/processed/Combined/Train/Dataset_B_benign (34).png', '../../data/processed/Combined/Train/BUSI_benign (276).png', '../../data/processed/Combined/Train/BUSI_normal (21).png', '../../data/processed/Combined/Train/BUSI_benign (49).png', '../../data/processed/Combined/Train/BUSI_malignant (14).png', '../../data/processed/Combined/Train/BUSI_benign (108).png', '../../data/processed/Combined/Train/Dataset_B_benign (63).png', '../../data/processed/Combined/Train/BUSI_benign (221).png', '../../data/processed/Combined/Train/BUSI_normal (76).png', '../../data/processed/Combined/Train/Dataset_B_benign (75).png', '../../data/processed/Combined/Train/BUSI_normal (60).png', '../../data/processed/Combined/Train/BUSI_benign (237).png', '../../data/processed/Combined/Train/BUSI_benign (149).png', '../../data/processed/Combined/Train/BUSI_malignant (55).png', '../../data/processed/Combined/Train/Dataset_B_benign (22).png', '../../data/processed/Combined/Train/BUSI_malignant (6).png', '../../data/processed/Combined/Train/BUSI_normal (37).png', '../../data/processed/Combined/Train/BUSI_benign (260).png', '../../data/processed/Combined/Train/BUSI_benign (132).png', '../../data/processed/Combined/Train/BUSI_benign (24).png', '../../data/processed/Combined/Train/Dataset_B_malignant (1).png', '../../data/processed/Combined/Train/Dataset_B_benign (59).png', '../../data/processed/Combined/Train/BUSI_malignant (96).png', '../../data/processed/Combined/Train/BUSI_malignant (79).png', '../../data/processed/Combined/Train/BUSI_benign (165).png', '../../data/processed/Combined/Train/Dataset_B_malignant (20).png', '../../data/processed/Combined/Train/BUSI_malignant (120).png', '../../data/processed/Combined/Train/BUSI_benign (73).png', '../../data/processed/Combined/Train/BUSI_malignant (80).png', '../../data/processed/Combined/Train/Dataset_B_malignant (36).png', '../../data/processed/Combined/Train/BUSI_benign (173).png', '../../data/processed/Combined/Train/BUSI_normal (6).png', '../../data/processed/Combined/Train/BUSI_benign (65).png', '../../data/processed/Combined/Train/BUSI_malignant (136).png', '../../data/processed/Combined/Train/Dataset_B_benign (18).png', '../../data/processed/Combined/Train/BUSI_benign (8).png', '../../data/processed/Combined/Train/Dataset_B_benign (2).png', '../../data/processed/Combined/Train/BUSI_benign (124).png', '../../data/processed/Combined/Train/BUSI_malignant (38).png', '../../data/processed/Combined/Train/BUSI_benign (32).png', '../../data/processed/Combined/Train/BUSI_benign (3).png', '../../data/processed/Combined/Train/Dataset_B_benign (9).png', '../../data/processed/Combined/Train/BUSI_malignant (33).png', '../../data/processed/Combined/Train/BUSI_normal (51).png', '../../data/processed/Combined/Train/BUSI_benign (206).png', '../../data/processed/Combined/Train/BUSI_benign (39).png', '../../data/processed/Combined/Train/Dataset_B_benign (44).png', '../../data/processed/Combined/Train/BUSI_benign (197).png', '../../data/processed/Combined/Train/BUSI_benign (178).png', '../../data/processed/Combined/Train/BUSI_malignant (64).png', '../../data/processed/Combined/Train/BUSI_benign (251).png', '../../data/processed/Combined/Train/Dataset_B_benign (13).png', '../../data/processed/Combined/Train/BUSI_benign (81).png', '../../data/processed/Combined/Train/BUSI_benign (181).png', '../../data/processed/Combined/Train/BUSI_malignant (72).png', '../../data/processed/Combined/Train/BUSI_benign (247).png', '../../data/processed/Combined/Train/BUSI_normal (10).png', '../../data/processed/Combined/Train/BUSI_benign (78).png', '../../data/processed/Combined/Train/BUSI_benign (97).png', '../../data/processed/Combined/Train/BUSI_benign (302).png', '../../data/processed/Combined/Train/BUSI_malignant (25).png', '../../data/processed/Combined/Train/BUSI_benign (139).png', '../../data/processed/Combined/Train/BUSI_benign (210).png', '../../data/processed/Combined/Train/BUSI_normal (47).png', '../../data/processed/Combined/Train/Dataset_B_benign (52).png', '../../data/processed/Combined/Train/BUSI_benign (142).png', '../../data/processed/Combined/Train/BUSI_benign (284).png', '../../data/processed/Combined/Train/Dataset_B_benign (29).png', '../../data/processed/Combined/Train/BUSI_benign (54).png', '../../data/processed/Combined/Train/BUSI_malignant (107).png', '../../data/processed/Combined/Train/BUSI_benign (115).png', '../../data/processed/Combined/Train/BUSI_normal (84).png', '../../data/processed/Combined/Train/BUSI_benign (103).png', '../../data/processed/Combined/Train/BUSI_normal (92).png', '../../data/processed/Combined/Train/Dataset_B_benign (68).png', '../../data/processed/Combined/Train/BUSI_benign (15).png', '../../data/processed/Combined/Train/BUSI_malignant (146).png', '../../data/processed/Combined/Train/BUSI_malignant (48).png', '../../data/processed/Combined/Train/BUSI_benign (154).png', '../../data/processed/Combined/Train/Dataset_B_malignant (11).png', '../../data/processed/Combined/Train/BUSI_benign (292).png', '../../data/processed/Combined/Train/BUSI_malignant (111).png', '../../data/processed/Combined/Train/BUSI_benign (42).png', '../../data/processed/Combined/Train/BUSI_benign (35).png', '../../data/processed/Combined/Train/Dataset_B_benign (48).png', '../../data/processed/Combined/Train/BUSI_benign (123).png', '../../data/processed/Combined/Train/Dataset_B_benign (5).png', '../../data/processed/Combined/Train/BUSI_malignant (131).png', '../../data/processed/Combined/Train/BUSI_benign (62).png', '../../data/processed/Combined/Train/BUSI_malignant (87).png', '../../data/processed/Combined/Train/BUSI_normal (1).png', '../../data/processed/Combined/Train/BUSI_malignant (68).png', '../../data/processed/Combined/Train/BUSI_benign (174).png', '../../data/processed/Combined/Train/Dataset_B_malignant (31).png', '../../data/processed/Combined/Train/BUSI_benign (74).png', '../../data/processed/Combined/Train/BUSI_malignant (127).png', '../../data/processed/Combined/Train/BUSI_malignant (91).png', '../../data/processed/Combined/Train/Dataset_B_malignant (27).png', '../../data/processed/Combined/Train/BUSI_benign (162).png', '../../data/processed/Combined/Train/Dataset_B_malignant (6).png', '../../data/processed/Combined/Train/BUSI_benign (23).png', '../../data/processed/Combined/Train/BUSI_benign (135).png', '../../data/processed/Combined/Train/BUSI_malignant (29).png', '../../data/processed/Combined/Train/Dataset_B_benign (25).png', '../../data/processed/Combined/Train/BUSI_benign (288).png', '../../data/processed/Combined/Train/BUSI_benign (267).png', '../../data/processed/Combined/Train/BUSI_normal (30).png', '../../data/processed/Combined/Train/BUSI_benign (58).png', '../../data/processed/Combined/Train/BUSI_malignant (1).png', '../../data/processed/Combined/Train/BUSI_malignant (52).png', '../../data/processed/Combined/Train/BUSI_normal (88).png', '../../data/processed/Combined/Train/Dataset_B_benign (72).png', '../../data/processed/Combined/Train/BUSI_benign (230).png', '../../data/processed/Combined/Train/BUSI_normal (67).png', '../../data/processed/Combined/Train/BUSI_benign (119).png', '../../data/processed/Combined/Train/Dataset_B_benign (64).png', '../../data/processed/Combined/Train/BUSI_normal (71).png', '../../data/processed/Combined/Train/BUSI_benign (226).png', '../../data/processed/Combined/Train/BUSI_benign (19).png', '../../data/processed/Combined/Train/BUSI_malignant (13).png', '../../data/processed/Combined/Train/Dataset_B_benign (33).png', '../../data/processed/Combined/Train/BUSI_normal (26).png', '../../data/processed/Combined/Train/BUSI_benign (271).png', '../../data/processed/Combined/Train/BUSI_benign (158).png', '../../data/processed/Combined/Train/BUSI_malignant (44).png', '../../data/processed/Combined/Train/BUSI_malignant (45).png', '../../data/processed/Combined/Train/BUSI_benign (159).png', '../../data/processed/Combined/Train/Dataset_B_benign (32).png', '../../data/processed/Combined/Train/BUSI_benign (270).png', '../../data/processed/Combined/Train/BUSI_normal (27).png', '../../data/processed/Combined/Train/BUSI_malignant (12).png', '../../data/processed/Combined/Train/Dataset_B_benign (65).png', '../../data/processed/Combined/Train/BUSI_benign (227).png', '../../data/processed/Combined/Train/BUSI_normal (70).png', '../../data/processed/Combined/Train/BUSI_benign (18).png', '../../data/processed/Combined/Train/BUSI_benign (118).png', '../../data/processed/Combined/Train/BUSI_normal (89).png', '../../data/processed/Combined/Train/Dataset_B_benign (73).png', '../../data/processed/Combined/Train/BUSI_normal (66).png', '../../data/processed/Combined/Train/BUSI_benign (231).png', '../../data/processed/Combined/Train/BUSI_malignant (53).png', '../../data/processed/Combined/Train/Dataset_B_benign (24).png', '../../data/processed/Combined/Train/BUSI_benign (289).png', '../../data/processed/Combined/Train/BUSI_normal (31).png', '../../data/processed/Combined/Train/BUSI_benign (266).png', '../../data/processed/Combined/Train/BUSI_benign (59).png', '../../data/processed/Combined/Train/BUSI_malignant (28).png', '../../data/processed/Combined/Train/BUSI_benign (134).png', '../../data/processed/Combined/Train/BUSI_benign (22).png', '../../data/processed/Combined/Train/Dataset_B_malignant (7).png', '../../data/processed/Combined/Train/BUSI_malignant (90).png', '../../data/processed/Combined/Train/Dataset_B_malignant (26).png', '../../data/processed/Combined/Train/BUSI_benign (163).png', '../../data/processed/Combined/Train/BUSI_benign (75).png', '../../data/processed/Combined/Train/BUSI_malignant (126).png', '../../data/processed/Combined/Train/BUSI_malignant (86).png', '../../data/processed/Combined/Train/BUSI_benign (175).png', '../../data/processed/Combined/Train/BUSI_malignant (69).png', '../../data/processed/Combined/Train/Dataset_B_malignant (30).png', '../../data/processed/Combined/Train/BUSI_malignant (130).png', '../../data/processed/Combined/Train/BUSI_benign (63).png', '../../data/processed/Combined/Train/Dataset_B_benign (4).png', '../../data/processed/Combined/Train/BUSI_benign (122).png', '../../data/processed/Combined/Train/BUSI_benign (34).png', '../../data/processed/Combined/Train/Dataset_B_benign (49).png', '../../data/processed/Combined/Train/BUSI_benign (293).png', '../../data/processed/Combined/Train/BUSI_malignant (110).png', '../../data/processed/Combined/Train/BUSI_benign (43).png', '../../data/processed/Combined/Train/BUSI_benign (155).png', '../../data/processed/Combined/Train/BUSI_malignant (49).png', '../../data/processed/Combined/Train/Dataset_B_malignant (10).png', '../../data/processed/Combined/Train/BUSI_normal (93).png', '../../data/processed/Combined/Train/Dataset_B_benign (69).png', '../../data/processed/Combined/Train/BUSI_benign (14).png', '../../data/processed/Combined/Train/BUSI_malignant (147).png', '../../data/processed/Combined/Train/BUSI_benign (102).png', '../../data/processed/Combined/Train/BUSI_normal (85).png', '../../data/processed/Combined/Train/BUSI_benign (114).png', '../../data/processed/Combined/Train/BUSI_benign (285).png', '../../data/processed/Combined/Train/Dataset_B_benign (28).png', '../../data/processed/Combined/Train/BUSI_benign (55).png', '../../data/processed/Combined/Train/BUSI_malignant (106).png', '../../data/processed/Combined/Train/BUSI_benign (143).png', '../../data/processed/Combined/Train/BUSI_normal (46).png', '../../data/processed/Combined/Train/BUSI_benign (211).png', '../../data/processed/Combined/Train/Dataset_B_benign (53).png', '../../data/processed/Combined/Train/BUSI_benign (138).png', '../../data/processed/Combined/Train/BUSI_malignant (24).png', '../../data/processed/Combined/Train/BUSI_normal (11).png', '../../data/processed/Combined/Train/BUSI_benign (246).png', '../../data/processed/Combined/Train/BUSI_benign (79).png', '../../data/processed/Combined/Train/BUSI_benign (96).png', '../../data/processed/Combined/Train/BUSI_benign (303).png', '../../data/processed/Combined/Train/BUSI_benign (180).png', '../../data/processed/Combined/Train/BUSI_malignant (73).png', '../../data/processed/Combined/Train/BUSI_benign (250).png', '../../data/processed/Combined/Train/Dataset_B_benign (12).png', '../../data/processed/Combined/Train/BUSI_benign (80).png', '../../data/processed/Combined/Train/BUSI_benign (196).png', '../../data/processed/Combined/Train/BUSI_malignant (65).png', '../../data/processed/Combined/Train/BUSI_benign (179).png', '../../data/processed/Combined/Train/BUSI_benign (207).png', '../../data/processed/Combined/Train/BUSI_normal (50).png', '../../data/processed/Combined/Train/BUSI_benign (38).png', '../../data/processed/Combined/Train/Dataset_B_benign (45).png', '../../data/processed/Combined/Train/BUSI_benign (2).png', '../../data/processed/Combined/Train/BUSI_malignant (32).png', '../../data/processed/Combined/Train/Dataset_B_benign (8).png', '../../data/processed/Combined/Train/BUSI_benign (40).png', '../../data/processed/Combined/Train/BUSI_malignant (113).png', '../../data/processed/Combined/Train/BUSI_normal (28).png', '../../data/processed/Combined/Train/BUSI_benign (290).png', '../../data/processed/Combined/Train/Dataset_B_malignant (13).png', '../../data/processed/Combined/Train/BUSI_benign (156).png', '../../data/processed/Combined/Train/BUSI_benign (228).png', '../../data/processed/Combined/Train/BUSI_malignant (144).png', '../../data/processed/Combined/Train/BUSI_benign (17).png', '../../data/processed/Combined/Train/BUSI_normal (90).png', '../../data/processed/Combined/Train/BUSI_benign (101).png', '../../data/processed/Combined/Train/BUSI_normal (69).png', '../../data/processed/Combined/Train/BUSI_normal (86).png', '../../data/processed/Combined/Train/BUSI_benign (117).png', '../../data/processed/Combined/Train/BUSI_benign (269).png', '../../data/processed/Combined/Train/BUSI_malignant (105).png', '../../data/processed/Combined/Train/BUSI_benign (56).png', '../../data/processed/Combined/Train/BUSI_benign (286).png', '../../data/processed/Combined/Train/BUSI_benign (140).png', '../../data/processed/Combined/Train/Dataset_B_benign (50).png', '../../data/processed/Combined/Train/BUSI_normal (45).png', '../../data/processed/Combined/Train/BUSI_benign (212).png', '../../data/processed/Combined/Train/Dataset_B_malignant (8).png', '../../data/processed/Combined/Train/BUSI_malignant (27).png', '../../data/processed/Combined/Train/BUSI_benign (300).png', '../../data/processed/Combined/Train/BUSI_benign (95).png', '../../data/processed/Combined/Train/BUSI_malignant (129).png', '../../data/processed/Combined/Train/BUSI_normal (12).png', '../../data/processed/Combined/Train/BUSI_benign (245).png', '../../data/processed/Combined/Train/Dataset_B_malignant (29).png', '../../data/processed/Combined/Train/BUSI_malignant (70).png', '../../data/processed/Combined/Train/BUSI_benign (183).png', '../../data/processed/Combined/Train/BUSI_benign (83).png', '../../data/processed/Combined/Train/Dataset_B_benign (11).png', '../../data/processed/Combined/Train/BUSI_benign (253).png', '../../data/processed/Combined/Train/BUSI_malignant (66).png', '../../data/processed/Combined/Train/BUSI_benign (195).png', '../../data/processed/Combined/Train/BUSI_malignant (89).png', '../../data/processed/Combined/Train/Dataset_B_benign (46).png', '../../data/processed/Combined/Train/BUSI_benign (204).png', '../../data/processed/Combined/Train/BUSI_normal (53).png', '../../data/processed/Combined/Train/BUSI_malignant (31).png', '../../data/processed/Combined/Train/BUSI_benign (1).png', '../../data/processed/Combined/Train/BUSI_malignant (46).png', '../../data/processed/Combined/Train/BUSI_benign (273).png', '../../data/processed/Combined/Train/BUSI_normal (24).png', '../../data/processed/Combined/Train/Dataset_B_benign (31).png', '../../data/processed/Combined/Train/BUSI_malignant (11).png', '../../data/processed/Combined/Train/BUSI_benign (224).png', '../../data/processed/Combined/Train/BUSI_normal (73).png', '../../data/processed/Combined/Train/Dataset_B_benign (66).png', '../../data/processed/Combined/Train/BUSI_normal (65).png', '../../data/processed/Combined/Train/BUSI_benign (232).png', '../../data/processed/Combined/Train/Dataset_B_benign (70).png', '../../data/processed/Combined/Train/BUSI_malignant (50).png', '../../data/processed/Combined/Train/BUSI_malignant (3).png', '../../data/processed/Combined/Train/BUSI_malignant (109).png', '../../data/processed/Combined/Train/BUSI_normal (32).png', '../../data/processed/Combined/Train/BUSI_benign (265).png', '../../data/processed/Combined/Train/Dataset_B_benign (27).png', '../../data/processed/Combined/Train/BUSI_benign (137).png', '../../data/processed/Combined/Train/BUSI_benign (21).png', '../../data/processed/Combined/Train/Dataset_B_malignant (4).png', '../../data/processed/Combined/Train/BUSI_normal (49).png', '../../data/processed/Combined/Train/BUSI_benign (160).png', '../../data/processed/Combined/Train/Dataset_B_malignant (25).png', '../../data/processed/Combined/Train/BUSI_malignant (93).png', '../../data/processed/Combined/Train/BUSI_benign (99).png', '../../data/processed/Combined/Train/BUSI_benign (249).png', '../../data/processed/Combined/Train/BUSI_malignant (125).png', '../../data/processed/Combined/Train/BUSI_benign (76).png', '../../data/processed/Combined/Train/Dataset_B_malignant (33).png', '../../data/processed/Combined/Train/BUSI_benign (176).png', '../../data/processed/Combined/Train/BUSI_normal (3).png', '../../data/processed/Combined/Train/BUSI_malignant (85).png', '../../data/processed/Combined/Train/BUSI_benign (199).png', '../../data/processed/Combined/Train/BUSI_benign (60).png', '../../data/processed/Combined/Train/BUSI_malignant (133).png', '../../data/processed/Combined/Train/Dataset_B_benign (7).png', '../../data/processed/Combined/Train/BUSI_benign (121).png', '../../data/processed/Combined/Train/BUSI_benign (208).png', '../../data/processed/Combined/Train/BUSI_benign (37).png', '../../data/processed/Combined/Train/BUSI_benign (209).png', '../../data/processed/Combined/Train/BUSI_benign (36).png', '../../data/processed/Combined/Train/BUSI_benign (120).png', '../../data/processed/Combined/Train/Dataset_B_benign (6).png', '../../data/processed/Combined/Train/BUSI_benign (61).png', '../../data/processed/Combined/Train/BUSI_malignant (132).png', '../../data/processed/Combined/Train/Dataset_B_malignant (32).png', '../../data/processed/Combined/Train/BUSI_normal (2).png', '../../data/processed/Combined/Train/BUSI_benign (177).png', '../../data/processed/Combined/Train/BUSI_benign (198).png', '../../data/processed/Combined/Train/BUSI_malignant (84).png', '../../data/processed/Combined/Train/BUSI_benign (98).png', '../../data/processed/Combined/Train/BUSI_benign (248).png', '../../data/processed/Combined/Train/BUSI_malignant (124).png', '../../data/processed/Combined/Train/BUSI_benign (77).png', '../../data/processed/Combined/Train/BUSI_benign (161).png', '../../data/processed/Combined/Train/Dataset_B_malignant (24).png', '../../data/processed/Combined/Train/BUSI_malignant (92).png', '../../data/processed/Combined/Train/Dataset_B_malignant (5).png', '../../data/processed/Combined/Train/BUSI_benign (20).png', '../../data/processed/Combined/Train/BUSI_normal (48).png', '../../data/processed/Combined/Train/BUSI_benign (136).png', '../../data/processed/Combined/Train/BUSI_malignant (2).png', '../../data/processed/Combined/Train/BUSI_malignant (108).png', '../../data/processed/Combined/Train/BUSI_benign (264).png', '../../data/processed/Combined/Train/BUSI_normal (33).png', '../../data/processed/Combined/Train/Dataset_B_benign (26).png', '../../data/processed/Combined/Train/BUSI_malignant (51).png', '../../data/processed/Combined/Train/BUSI_benign (233).png', '../../data/processed/Combined/Train/BUSI_normal (64).png', '../../data/processed/Combined/Train/Dataset_B_benign (71).png', '../../data/processed/Combined/Train/BUSI_normal (72).png', '../../data/processed/Combined/Train/BUSI_benign (225).png', '../../data/processed/Combined/Train/Dataset_B_benign (67).png', '../../data/processed/Combined/Train/BUSI_malignant (10).png', '../../data/processed/Combined/Train/BUSI_normal (25).png', '../../data/processed/Combined/Train/BUSI_benign (272).png', '../../data/processed/Combined/Train/Dataset_B_benign (30).png', '../../data/processed/Combined/Train/BUSI_malignant (47).png', '../../data/processed/Combined/Train/BUSI_malignant (30).png', '../../data/processed/Combined/Train/Dataset_B_benign (47).png', '../../data/processed/Combined/Train/BUSI_normal (52).png', '../../data/processed/Combined/Train/BUSI_benign (205).png', '../../data/processed/Combined/Train/BUSI_malignant (67).png', '../../data/processed/Combined/Train/BUSI_malignant (88).png', '../../data/processed/Combined/Train/BUSI_benign (194).png', '../../data/processed/Combined/Train/BUSI_benign (82).png', '../../data/processed/Combined/Train/Dataset_B_benign (10).png', '../../data/processed/Combined/Train/BUSI_benign (252).png', '../../data/processed/Combined/Train/Dataset_B_malignant (28).png', '../../data/processed/Combined/Train/BUSI_malignant (71).png', '../../data/processed/Combined/Train/BUSI_benign (182).png', '../../data/processed/Combined/Train/BUSI_benign (301).png', '../../data/processed/Combined/Train/BUSI_benign (94).png', '../../data/processed/Combined/Train/BUSI_malignant (128).png', '../../data/processed/Combined/Train/BUSI_benign (244).png', '../../data/processed/Combined/Train/BUSI_normal (13).png', '../../data/processed/Combined/Train/BUSI_malignant (26).png', '../../data/processed/Combined/Train/Dataset_B_benign (51).png', '../../data/processed/Combined/Train/BUSI_benign (213).png', '../../data/processed/Combined/Train/BUSI_normal (44).png', '../../data/processed/Combined/Train/Dataset_B_malignant (9).png', '../../data/processed/Combined/Train/BUSI_benign (141).png', '../../data/processed/Combined/Train/BUSI_benign (268).png', '../../data/processed/Combined/Train/BUSI_malignant (104).png', '../../data/processed/Combined/Train/BUSI_benign (57).png', '../../data/processed/Combined/Train/BUSI_benign (287).png', '../../data/processed/Combined/Train/BUSI_benign (116).png', '../../data/processed/Combined/Train/BUSI_normal (68).png', '../../data/processed/Combined/Train/BUSI_normal (87).png', '../../data/processed/Combined/Train/BUSI_benign (100).png', '../../data/processed/Combined/Train/BUSI_benign (229).png', '../../data/processed/Combined/Train/BUSI_malignant (145).png', '../../data/processed/Combined/Train/BUSI_benign (16).png', '../../data/processed/Combined/Train/BUSI_normal (91).png', '../../data/processed/Combined/Train/Dataset_B_malignant (12).png', '../../data/processed/Combined/Train/BUSI_benign (157).png', '../../data/processed/Combined/Train/BUSI_benign (41).png', '../../data/processed/Combined/Train/BUSI_malignant (112).png', '../../data/processed/Combined/Train/BUSI_normal (29).png', '../../data/processed/Combined/Train/BUSI_benign (291).png', '../../data/processed/Combined/Train/Dataset_B_malignant (19).png', '../../data/processed/Combined/Train/BUSI_malignant (40).png', '../../data/processed/Combined/Train/BUSI_malignant (119).png', '../../data/processed/Combined/Train/BUSI_benign (275).png', '../../data/processed/Combined/Train/BUSI_normal (22).png', '../../data/processed/Combined/Train/Dataset_B_benign (37).png', '../../data/processed/Combined/Train/BUSI_malignant (17).png', '../../data/processed/Combined/Train/BUSI_benign (222).png', '../../data/processed/Combined/Train/BUSI_normal (75).png', '../../data/processed/Combined/Train/Dataset_B_benign (60).png', '../../data/processed/Combined/Train/BUSI_normal (63).png', '../../data/processed/Combined/Train/BUSI_benign (234).png', '../../data/processed/Combined/Train/Dataset_B_benign (76).png', '../../data/processed/Combined/Train/BUSI_malignant (56).png', '../../data/processed/Combined/Train/BUSI_normal (34).png', '../../data/processed/Combined/Train/BUSI_benign (263).png', '../../data/processed/Combined/Train/BUSI_malignant (5).png', '../../data/processed/Combined/Train/Dataset_B_benign (21).png', '../../data/processed/Combined/Train/BUSI_benign (131).png', '../../data/processed/Combined/Train/BUSI_benign (218).png', '../../data/processed/Combined/Train/BUSI_benign (27).png', '../../data/processed/Combined/Train/Dataset_B_malignant (2).png', '../../data/processed/Combined/Train/Dataset_B_malignant (23).png', '../../data/processed/Combined/Train/BUSI_benign (166).png', '../../data/processed/Combined/Train/BUSI_benign (189).png', '../../data/processed/Combined/Train/BUSI_malignant (95).png', '../../data/processed/Combined/Train/BUSI_benign (70).png', '../../data/processed/Combined/Train/BUSI_malignant (123).png', '../../data/processed/Combined/Train/BUSI_normal (18).png', '../../data/processed/Combined/Train/BUSI_benign (170).png', '../../data/processed/Combined/Train/BUSI_normal (5).png', '../../data/processed/Combined/Train/Dataset_B_malignant (35).png', '../../data/processed/Combined/Train/BUSI_malignant (83).png', '../../data/processed/Combined/Train/BUSI_benign (89).png', '../../data/processed/Combined/Train/BUSI_benign (259).png', '../../data/processed/Combined/Train/BUSI_malignant (135).png', '../../data/processed/Combined/Train/BUSI_benign (66).png', '../../data/processed/Combined/Train/Dataset_B_benign (1).png', '../../data/processed/Combined/Train/BUSI_benign (127).png', '../../data/processed/Combined/Train/BUSI_benign (31).png', '../../data/processed/Combined/Train/BUSI_normal (59).png', '../../data/processed/Combined/Train/BUSI_benign (279).png', '../../data/processed/Combined/Train/BUSI_malignant (115).png', '../../data/processed/Combined/Train/BUSI_benign (46).png', '../../data/processed/Combined/Train/BUSI_benign (296).png', '../../data/processed/Combined/Train/BUSI_benign (150).png', '../../data/processed/Combined/Train/Dataset_B_malignant (15).png', '../../data/processed/Combined/Train/BUSI_benign (11).png', '../../data/processed/Combined/Train/BUSI_malignant (142).png', '../../data/processed/Combined/Train/BUSI_normal (79).png', '../../data/processed/Combined/Train/BUSI_benign (107).png', '../../data/processed/Combined/Train/BUSI_benign (238).png', '../../data/processed/Combined/Train/BUSI_normal (80).png', '../../data/processed/Combined/Train/BUSI_benign (111).png', '../../data/processed/Combined/Train/BUSI_benign (50).png', '../../data/processed/Combined/Train/BUSI_malignant (9).png', '../../data/processed/Combined/Train/BUSI_malignant (103).png', '../../data/processed/Combined/Train/BUSI_normal (38).png', '../../data/processed/Combined/Train/BUSI_benign (280).png', '../../data/processed/Combined/Train/BUSI_benign (146).png', '../../data/processed/Combined/Train/Dataset_B_benign (56).png', '../../data/processed/Combined/Train/BUSI_normal (43).png', '../../data/processed/Combined/Train/BUSI_benign (214).png', '../../data/processed/Combined/Train/BUSI_malignant (21).png', '../../data/processed/Combined/Train/BUSI_benign (93).png', '../../data/processed/Combined/Train/BUSI_normal (14).png', '../../data/processed/Combined/Train/BUSI_benign (243).png', '../../data/processed/Combined/Train/BUSI_malignant (76).png', '../../data/processed/Combined/Train/BUSI_malignant (99).png', '../../data/processed/Combined/Train/BUSI_benign (185).png', '../../data/processed/Combined/Train/Dataset_B_benign (17).png', '../../data/processed/Combined/Train/BUSI_benign (85).png', '../../data/processed/Combined/Train/BUSI_malignant (139).png', '../../data/processed/Combined/Train/BUSI_benign (255).png', '../../data/processed/Combined/Train/BUSI_normal (9).png', '../../data/processed/Combined/Train/BUSI_malignant (60).png', '../../data/processed/Combined/Train/BUSI_benign (193).png', '../../data/processed/Combined/Train/Dataset_B_benign (40).png', '../../data/processed/Combined/Train/BUSI_benign (202).png', '../../data/processed/Combined/Train/BUSI_normal (55).png', '../../data/processed/Combined/Train/BUSI_malignant (37).png', '../../data/processed/Combined/Train/BUSI_benign (7).png', '../../data/processed/Combined/Train/BUSI_malignant (36).png', '../../data/processed/Combined/Train/BUSI_benign (6).png', '../../data/processed/Combined/Train/Dataset_B_benign (41).png', '../../data/processed/Combined/Train/BUSI_normal (54).png', '../../data/processed/Combined/Train/BUSI_benign (203).png', '../../data/processed/Combined/Train/Dataset_B_malignant (38).png', '../../data/processed/Combined/Train/BUSI_malignant (61).png', '../../data/processed/Combined/Train/BUSI_normal (8).png', '../../data/processed/Combined/Train/BUSI_benign (192).png', '../../data/processed/Combined/Train/Dataset_B_benign (16).png', '../../data/processed/Combined/Train/BUSI_benign (84).png', '../../data/processed/Combined/Train/BUSI_malignant (138).png', '../../data/processed/Combined/Train/BUSI_benign (254).png', '../../data/processed/Combined/Train/BUSI_malignant (77).png', '../../data/processed/Combined/Train/BUSI_benign (184).png', '../../data/processed/Combined/Train/BUSI_malignant (98).png', '../../data/processed/Combined/Train/BUSI_benign (92).png', '../../data/processed/Combined/Train/BUSI_benign (242).png', '../../data/processed/Combined/Train/BUSI_normal (15).png', '../../data/processed/Combined/Train/BUSI_malignant (20).png', '../../data/processed/Combined/Train/Dataset_B_benign (57).png', '../../data/processed/Combined/Train/BUSI_benign (215).png', '../../data/processed/Combined/Train/BUSI_normal (42).png', '../../data/processed/Combined/Train/BUSI_benign (147).png', '../../data/processed/Combined/Train/BUSI_benign (51).png', '../../data/processed/Combined/Train/BUSI_malignant (8).png', '../../data/processed/Combined/Train/BUSI_malignant (102).png', '../../data/processed/Combined/Train/BUSI_normal (39).png', '../../data/processed/Combined/Train/BUSI_benign (281).png', '../../data/processed/Combined/Train/BUSI_benign (110).png', '../../data/processed/Combined/Train/BUSI_benign (239).png', '../../data/processed/Combined/Train/BUSI_normal (81).png', '../../data/processed/Combined/Train/BUSI_benign (106).png', '../../data/processed/Combined/Train/BUSI_benign (10).png', '../../data/processed/Combined/Train/BUSI_malignant (143).png', '../../data/processed/Combined/Train/BUSI_normal (78).png', '../../data/processed/Combined/Train/BUSI_benign (151).png', '../../data/processed/Combined/Train/Dataset_B_malignant (14).png', '../../data/processed/Combined/Train/BUSI_benign (278).png', '../../data/processed/Combined/Train/BUSI_malignant (114).png', '../../data/processed/Combined/Train/BUSI_benign (47).png', '../../data/processed/Combined/Train/BUSI_benign (297).png', '../../data/processed/Combined/Train/BUSI_benign (30).png', '../../data/processed/Combined/Train/BUSI_normal (58).png', '../../data/processed/Combined/Train/BUSI_benign (126).png', '../../data/processed/Combined/Train/BUSI_benign (88).png', '../../data/processed/Combined/Train/BUSI_benign (258).png', '../../data/processed/Combined/Train/BUSI_malignant (134).png', '../../data/processed/Combined/Train/BUSI_benign (67).png', '../../data/processed/Combined/Train/BUSI_normal (4).png', '../../data/processed/Combined/Train/BUSI_benign (171).png', '../../data/processed/Combined/Train/Dataset_B_malignant (34).png', '../../data/processed/Combined/Train/BUSI_malignant (82).png', '../../data/processed/Combined/Train/BUSI_benign (71).png', '../../data/processed/Combined/Train/BUSI_malignant (122).png', '../../data/processed/Combined/Train/BUSI_normal (19).png', '../../data/processed/Combined/Train/Dataset_B_malignant (22).png', '../../data/processed/Combined/Train/BUSI_benign (167).png', '../../data/processed/Combined/Train/BUSI_malignant (94).png', '../../data/processed/Combined/Train/BUSI_benign (188).png', '../../data/processed/Combined/Train/BUSI_benign (219).png', '../../data/processed/Combined/Train/Dataset_B_malignant (3).png', '../../data/processed/Combined/Train/BUSI_benign (26).png', '../../data/processed/Combined/Train/BUSI_benign (130).png', '../../data/processed/Combined/Train/BUSI_benign (262).png', '../../data/processed/Combined/Train/BUSI_normal (35).png', '../../data/processed/Combined/Train/BUSI_malignant (4).png', '../../data/processed/Combined/Train/Dataset_B_benign (20).png', '../../data/processed/Combined/Train/BUSI_malignant (57).png', '../../data/processed/Combined/Train/BUSI_benign (235).png', '../../data/processed/Combined/Train/BUSI_normal (62).png', '../../data/processed/Combined/Train/BUSI_normal (74).png', '../../data/processed/Combined/Train/BUSI_benign (223).png', '../../data/processed/Combined/Train/Dataset_B_benign (61).png', '../../data/processed/Combined/Train/BUSI_malignant (16).png', '../../data/processed/Combined/Train/BUSI_malignant (118).png', '../../data/processed/Combined/Train/BUSI_normal (23).png', '../../data/processed/Combined/Train/BUSI_benign (274).png', '../../data/processed/Combined/Train/Dataset_B_benign (36).png', '../../data/processed/Combined/Train/Dataset_B_malignant (18).png', '../../data/processed/Combined/Train/BUSI_malignant (41).png']\n",
      "Mean: tensor([0.3137, 0.3137, 0.3136])\n",
      "Standard deviation: tensor([0.1942, 0.1942, 0.1941])\n"
     ]
    }
   ],
   "source": [
    "import torch\n",
    "from torchvision import transforms\n",
    "from PIL import Image\n",
    "import os\n",
    "import numpy as np\n",
    "\n",
    "transform = transforms.Compose([\n",
    "    transforms.ToTensor(),\n",
    "])\n",
    "\n",
    "folder_path = '../../data/processed/Combined/Train/'\n",
    "\n",
    "if os.path.exists(folder_path + '.DS_Store'):\n",
    "    os.remove(folder_path + '.DS_Store')\n",
    "\n",
    "image_paths = [os.path.join(folder_path, img) for img in os.listdir(folder_path)]\n",
    "\n",
    "print(image_paths)\n",
    "\n",
    "mean_sum = torch.zeros(3)\n",
    "std_sum = torch.zeros(3)\n",
    "\n",
    "for img_path in image_paths:\n",
    "    img = Image.open(img_path).convert('RGB')\n",
    "    img_tensor = transform(img)\n",
    "    mean_sum += img_tensor.mean(dim=(1, 2))\n",
    "    std_sum += img_tensor.std(dim=(1, 2))\n",
    "\n",
    "mean = mean_sum / len(image_paths)\n",
    "std = std_sum / len(image_paths)\n",
    "\n",
    "print(\"Mean:\", mean)\n",
    "print(\"Standard deviation:\", std)\n"
   ]
  },
  {
   "cell_type": "code",
   "execution_count": 2,
   "metadata": {},
   "outputs": [],
   "source": [
    "from torch.utils.data import Dataset\n",
    "from PIL import Image\n",
    "import os\n",
    "\n",
    "def pil_loader(path):\n",
    "    with open(path, 'rb') as f:\n",
    "        img = Image.open(f)\n",
    "        return img.convert('RGB')\n",
    "\n",
    "class TrainDS(Dataset):\n",
    "    def __init__(self, root_dir, transform=None):\n",
    "        self.root_dir = root_dir\n",
    "        self.transform = transform\n",
    "        self.image_files = os.listdir(root_dir)\n",
    "\n",
    "    def __len__(self):\n",
    "        return len(self.image_files)\n",
    "\n",
    "    def __getitem__(self, idx):\n",
    "        img_name = os.path.join(self.root_dir, self.image_files[idx])\n",
    "        image = pil_loader(img_name)\n",
    "        label = self._get_label(img_name)\n",
    "        if self.transform:\n",
    "            image = self.transform(image)\n",
    "        return image, label\n",
    "\n",
    "    def _get_label(self, filename):\n",
    "        if 'normal' in filename:\n",
    "            label = 0\n",
    "        elif 'benign' in filename:\n",
    "            label = 1\n",
    "        elif 'malignant' in filename:\n",
    "            label = 2\n",
    "        return label\n",
    "\n",
    "transform = transforms.Compose([\n",
    "    transforms.Resize(256),\n",
    "    transforms.CenterCrop(224),\n",
    "    transforms.ToTensor(),\n",
    "    transforms.Normalize(mean=[0.3137, 0.3137, 0.3136], std=[0.1942, 0.1942, 0.1941]),\n",
    "])\n",
    "\n",
    "dataset = TrainDS(root_dir=folder_path, transform=transform)"
   ]
  },
  {
   "cell_type": "code",
   "execution_count": 3,
   "metadata": {},
   "outputs": [
    {
     "name": "stdout",
     "output_type": "stream",
     "text": [
      "['../../data/processed/Combined/Test/BUSI_malignant (160).png', '../../data/processed/Combined/Test/BUSI_benign (349).png', '../../data/processed/Combined/Test/BUSI_benign (430).png', '../../data/processed/Combined/Test/BUSI_normal (128).png', '../../data/processed/Combined/Test/BUSI_benign (308).png', '../../data/processed/Combined/Test/BUSI_malignant (208).png', '../../data/processed/Combined/Test/BUSI_malignant (176).png', '../../data/processed/Combined/Test/BUSI_malignant (199).png', '../../data/processed/Combined/Test/BUSI_benign (426).png', '../../data/processed/Combined/Test/BUSI_benign (324).png', '../../data/processed/Combined/Test/BUSI_normal (112).png', '../../data/processed/Combined/Test/BUSI_benign (373).png', '../../data/processed/Combined/Test/BUSI_benign (365).png', '../../data/processed/Combined/Test/BUSI_normal (98).png', '../../data/processed/Combined/Test/BUSI_normal (104).png', '../../data/processed/Combined/Test/BUSI_benign (332).png', '../../data/processed/Combined/Test/BUSI_benign (345).png', '../../data/processed/Combined/Test/BUSI_malignant (183).png', '../../data/processed/Combined/Test/BUSI_normal (124).png', '../../data/processed/Combined/Test/BUSI_benign (312).png', '../../data/processed/Combined/Test/BUSI_malignant (204).png', '../../data/processed/Combined/Test/BUSI_normal (132).png', '../../data/processed/Combined/Test/BUSI_malignant (195).png', '../../data/processed/Combined/Test/BUSI_benign (353).png', '../../data/processed/Combined/Test/BUSI_benign (328).png', '../../data/processed/Combined/Test/BUSI_benign (406).png', '../../data/processed/Combined/Test/Dataset_B_benign (78).png', '../../data/processed/Combined/Test/BUSI_malignant (156).png', '../../data/processed/Combined/Test/BUSI_benign (390).png', '../../data/processed/Combined/Test/Dataset_B_benign (97).png', '../../data/processed/Combined/Test/Dataset_B_malignant (40).png', '../../data/processed/Combined/Test/BUSI_benign (410).png', '../../data/processed/Combined/Test/BUSI_normal (94).png', '../../data/processed/Combined/Test/BUSI_benign (369).png', '../../data/processed/Combined/Test/Dataset_B_benign (81).png', '../../data/processed/Combined/Test/BUSI_benign (386).png', '../../data/processed/Combined/Test/BUSI_normal (108).png', '../../data/processed/Combined/Test/Dataset_B_benign (103).png', '../../data/processed/Combined/Test/BUSI_normal (109).png', '../../data/processed/Combined/Test/Dataset_B_benign (102).png', '../../data/processed/Combined/Test/BUSI_normal (95).png', '../../data/processed/Combined/Test/BUSI_benign (368).png', '../../data/processed/Combined/Test/BUSI_benign (387).png', '../../data/processed/Combined/Test/Dataset_B_benign (80).png', '../../data/processed/Combined/Test/Dataset_B_malignant (41).png', '../../data/processed/Combined/Test/BUSI_benign (411).png', '../../data/processed/Combined/Test/Dataset_B_benign (79).png', '../../data/processed/Combined/Test/BUSI_malignant (157).png', '../../data/processed/Combined/Test/Dataset_B_benign (96).png', '../../data/processed/Combined/Test/BUSI_benign (391).png', '../../data/processed/Combined/Test/BUSI_benign (407).png', '../../data/processed/Combined/Test/BUSI_benign (329).png', '../../data/processed/Combined/Test/BUSI_malignant (194).png', '../../data/processed/Combined/Test/BUSI_benign (352).png', '../../data/processed/Combined/Test/BUSI_normal (133).png', '../../data/processed/Combined/Test/BUSI_malignant (205).png', '../../data/processed/Combined/Test/BUSI_normal (125).png', '../../data/processed/Combined/Test/BUSI_benign (313).png', '../../data/processed/Combined/Test/BUSI_benign (344).png', '../../data/processed/Combined/Test/BUSI_malignant (182).png', '../../data/processed/Combined/Test/BUSI_normal (105).png', '../../data/processed/Combined/Test/BUSI_benign (333).png', '../../data/processed/Combined/Test/BUSI_benign (364).png', '../../data/processed/Combined/Test/BUSI_normal (99).png', '../../data/processed/Combined/Test/BUSI_benign (372).png', '../../data/processed/Combined/Test/BUSI_benign (325).png', '../../data/processed/Combined/Test/BUSI_normal (113).png', '../../data/processed/Combined/Test/BUSI_benign (427).png', '../../data/processed/Combined/Test/BUSI_malignant (177).png', '../../data/processed/Combined/Test/BUSI_malignant (198).png', '../../data/processed/Combined/Test/BUSI_malignant (209).png', '../../data/processed/Combined/Test/BUSI_benign (309).png', '../../data/processed/Combined/Test/BUSI_normal (129).png', '../../data/processed/Combined/Test/BUSI_benign (431).png', '../../data/processed/Combined/Test/BUSI_malignant (161).png', '../../data/processed/Combined/Test/BUSI_benign (348).png', '../../data/processed/Combined/Test/BUSI_benign (343).png', '../../data/processed/Combined/Test/BUSI_malignant (185).png', '../../data/processed/Combined/Test/BUSI_normal (122).png', '../../data/processed/Combined/Test/BUSI_benign (314).png', '../../data/processed/Combined/Test/BUSI_malignant (202).png', '../../data/processed/Combined/Test/BUSI_malignant (193).png', '../../data/processed/Combined/Test/BUSI_benign (355).png', '../../data/processed/Combined/Test/BUSI_normal (118).png', '../../data/processed/Combined/Test/Dataset_B_malignant (50).png', '../../data/processed/Combined/Test/BUSI_benign (400).png', '../../data/processed/Combined/Test/BUSI_benign (379).png', '../../data/processed/Combined/Test/BUSI_malignant (150).png', '../../data/processed/Combined/Test/BUSI_benign (396).png', '../../data/processed/Combined/Test/Dataset_B_benign (91).png', '../../data/processed/Combined/Test/Dataset_B_malignant (46).png', '../../data/processed/Combined/Test/BUSI_benign (416).png', '../../data/processed/Combined/Test/Dataset_B_benign (87).png', '../../data/processed/Combined/Test/BUSI_benign (380).png', '../../data/processed/Combined/Test/Dataset_B_benign (105).png', '../../data/processed/Combined/Test/BUSI_benign (338).png', '../../data/processed/Combined/Test/BUSI_malignant (166).png', '../../data/processed/Combined/Test/BUSI_malignant (189).png', '../../data/processed/Combined/Test/BUSI_benign (436).png', '../../data/processed/Combined/Test/BUSI_benign (318).png', '../../data/processed/Combined/Test/BUSI_malignant (170).png', '../../data/processed/Combined/Test/BUSI_benign (359).png', '../../data/processed/Combined/Test/BUSI_benign (420).png', '../../data/processed/Combined/Test/BUSI_benign (322).png', '../../data/processed/Combined/Test/BUSI_normal (114).png', '../../data/processed/Combined/Test/BUSI_benign (375).png', '../../data/processed/Combined/Test/BUSI_benign (363).png', '../../data/processed/Combined/Test/BUSI_normal (102).png', '../../data/processed/Combined/Test/BUSI_benign (334).png', '../../data/processed/Combined/Test/Dataset_B_benign (109).png', '../../data/processed/Combined/Test/BUSI_normal (103).png', '../../data/processed/Combined/Test/BUSI_benign (335).png', '../../data/processed/Combined/Test/Dataset_B_benign (108).png', '../../data/processed/Combined/Test/BUSI_benign (362).png', '../../data/processed/Combined/Test/BUSI_benign (374).png', '../../data/processed/Combined/Test/BUSI_benign (323).png', '../../data/processed/Combined/Test/BUSI_normal (115).png', '../../data/processed/Combined/Test/BUSI_benign (421).png', '../../data/processed/Combined/Test/BUSI_malignant (171).png', '../../data/processed/Combined/Test/BUSI_benign (358).png', '../../data/processed/Combined/Test/BUSI_benign (319).png', '../../data/processed/Combined/Test/BUSI_benign (437).png', '../../data/processed/Combined/Test/BUSI_malignant (167).png', '../../data/processed/Combined/Test/BUSI_malignant (188).png', '../../data/processed/Combined/Test/Dataset_B_benign (104).png', '../../data/processed/Combined/Test/BUSI_benign (339).png', '../../data/processed/Combined/Test/BUSI_benign (381).png', '../../data/processed/Combined/Test/Dataset_B_benign (86).png', '../../data/processed/Combined/Test/Dataset_B_malignant (47).png', '../../data/processed/Combined/Test/BUSI_benign (417).png', '../../data/processed/Combined/Test/BUSI_benign (378).png', '../../data/processed/Combined/Test/BUSI_malignant (151).png', '../../data/processed/Combined/Test/Dataset_B_benign (90).png', '../../data/processed/Combined/Test/BUSI_benign (397).png', '../../data/processed/Combined/Test/Dataset_B_malignant (51).png', '../../data/processed/Combined/Test/BUSI_benign (401).png', '../../data/processed/Combined/Test/BUSI_normal (119).png', '../../data/processed/Combined/Test/BUSI_malignant (192).png', '../../data/processed/Combined/Test/BUSI_benign (354).png', '../../data/processed/Combined/Test/BUSI_malignant (203).png', '../../data/processed/Combined/Test/BUSI_normal (123).png', '../../data/processed/Combined/Test/BUSI_benign (315).png', '../../data/processed/Combined/Test/BUSI_benign (342).png', '../../data/processed/Combined/Test/BUSI_malignant (184).png', '../../data/processed/Combined/Test/Dataset_B_benign (107).png', '../../data/processed/Combined/Test/BUSI_benign (382).png', '../../data/processed/Combined/Test/Dataset_B_benign (85).png', '../../data/processed/Combined/Test/BUSI_benign (414).png', '../../data/processed/Combined/Test/Dataset_B_malignant (44).png', '../../data/processed/Combined/Test/BUSI_malignant (152).png', '../../data/processed/Combined/Test/Dataset_B_benign (93).png', '../../data/processed/Combined/Test/BUSI_benign (394).png', '../../data/processed/Combined/Test/BUSI_benign (402).png', '../../data/processed/Combined/Test/Dataset_B_malignant (52).png', '../../data/processed/Combined/Test/BUSI_malignant (191).png', '../../data/processed/Combined/Test/BUSI_benign (357).png', '../../data/processed/Combined/Test/BUSI_malignant (200).png', '../../data/processed/Combined/Test/BUSI_normal (120).png', '../../data/processed/Combined/Test/BUSI_benign (316).png', '../../data/processed/Combined/Test/BUSI_benign (341).png', '../../data/processed/Combined/Test/BUSI_malignant (187).png', '../../data/processed/Combined/Test/BUSI_malignant (168).png', '../../data/processed/Combined/Test/BUSI_normal (100).png', '../../data/processed/Combined/Test/BUSI_benign (336).png', '../../data/processed/Combined/Test/BUSI_benign (418).png', '../../data/processed/Combined/Test/Dataset_B_malignant (48).png', '../../data/processed/Combined/Test/BUSI_malignant (148).png', '../../data/processed/Combined/Test/Dataset_B_benign (89).png', '../../data/processed/Combined/Test/BUSI_benign (361).png', '../../data/processed/Combined/Test/BUSI_benign (398).png', '../../data/processed/Combined/Test/BUSI_benign (377).png', '../../data/processed/Combined/Test/BUSI_benign (320).png', '../../data/processed/Combined/Test/BUSI_normal (116).png', '../../data/processed/Combined/Test/BUSI_benign (422).png', '../../data/processed/Combined/Test/BUSI_malignant (172).png', '../../data/processed/Combined/Test/BUSI_benign (434).png', '../../data/processed/Combined/Test/BUSI_malignant (164).png', '../../data/processed/Combined/Test/BUSI_malignant (165).png', '../../data/processed/Combined/Test/BUSI_benign (435).png', '../../data/processed/Combined/Test/BUSI_malignant (173).png', '../../data/processed/Combined/Test/BUSI_benign (423).png', '../../data/processed/Combined/Test/BUSI_benign (321).png', '../../data/processed/Combined/Test/BUSI_normal (117).png', '../../data/processed/Combined/Test/BUSI_benign (399).png', '../../data/processed/Combined/Test/BUSI_benign (376).png', '../../data/processed/Combined/Test/BUSI_malignant (149).png', '../../data/processed/Combined/Test/Dataset_B_benign (88).png', '../../data/processed/Combined/Test/BUSI_benign (360).png', '../../data/processed/Combined/Test/BUSI_benign (419).png', '../../data/processed/Combined/Test/Dataset_B_malignant (49).png', '../../data/processed/Combined/Test/BUSI_normal (101).png', '../../data/processed/Combined/Test/BUSI_benign (337).png', '../../data/processed/Combined/Test/BUSI_benign (340).png', '../../data/processed/Combined/Test/BUSI_malignant (186).png', '../../data/processed/Combined/Test/BUSI_malignant (169).png', '../../data/processed/Combined/Test/BUSI_normal (121).png', '../../data/processed/Combined/Test/BUSI_benign (317).png', '../../data/processed/Combined/Test/BUSI_malignant (201).png', '../../data/processed/Combined/Test/BUSI_malignant (190).png', '../../data/processed/Combined/Test/BUSI_benign (356).png', '../../data/processed/Combined/Test/BUSI_benign (403).png', '../../data/processed/Combined/Test/Dataset_B_malignant (53).png', '../../data/processed/Combined/Test/BUSI_malignant (153).png', '../../data/processed/Combined/Test/BUSI_benign (395).png', '../../data/processed/Combined/Test/Dataset_B_benign (92).png', '../../data/processed/Combined/Test/BUSI_benign (415).png', '../../data/processed/Combined/Test/Dataset_B_malignant (45).png', '../../data/processed/Combined/Test/Dataset_B_benign (84).png', '../../data/processed/Combined/Test/BUSI_benign (383).png', '../../data/processed/Combined/Test/Dataset_B_benign (106).png', '../../data/processed/Combined/Test/BUSI_normal (106).png', '../../data/processed/Combined/Test/BUSI_benign (330).png', '../../data/processed/Combined/Test/BUSI_benign (388).png', '../../data/processed/Combined/Test/BUSI_benign (367).png', '../../data/processed/Combined/Test/BUSI_benign (408).png', '../../data/processed/Combined/Test/Dataset_B_benign (99).png', '../../data/processed/Combined/Test/BUSI_malignant (158).png', '../../data/processed/Combined/Test/BUSI_benign (371).png', '../../data/processed/Combined/Test/BUSI_benign (326).png', '../../data/processed/Combined/Test/BUSI_normal (110).png', '../../data/processed/Combined/Test/BUSI_benign (424).png', '../../data/processed/Combined/Test/BUSI_malignant (174).png', '../../data/processed/Combined/Test/BUSI_benign (432).png', '../../data/processed/Combined/Test/BUSI_malignant (162).png', '../../data/processed/Combined/Test/Dataset_B_benign (101).png', '../../data/processed/Combined/Test/BUSI_benign (384).png', '../../data/processed/Combined/Test/Dataset_B_benign (83).png', '../../data/processed/Combined/Test/BUSI_normal (96).png', '../../data/processed/Combined/Test/BUSI_benign (412).png', '../../data/processed/Combined/Test/Dataset_B_malignant (42).png', '../../data/processed/Combined/Test/BUSI_malignant (154).png', '../../data/processed/Combined/Test/Dataset_B_benign (95).png', '../../data/processed/Combined/Test/BUSI_benign (392).png', '../../data/processed/Combined/Test/BUSI_benign (404).png', '../../data/processed/Combined/Test/Dataset_B_malignant (54).png', '../../data/processed/Combined/Test/BUSI_malignant (197).png', '../../data/processed/Combined/Test/BUSI_benign (351).png', '../../data/processed/Combined/Test/BUSI_malignant (178).png', '../../data/processed/Combined/Test/BUSI_benign (428).png', '../../data/processed/Combined/Test/BUSI_benign (306).png', '../../data/processed/Combined/Test/BUSI_normal (130).png', '../../data/processed/Combined/Test/BUSI_malignant (206).png', '../../data/processed/Combined/Test/BUSI_normal (126).png', '../../data/processed/Combined/Test/BUSI_benign (310).png', '../../data/processed/Combined/Test/Dataset_B_malignant (39).png', '../../data/processed/Combined/Test/BUSI_malignant (210).png', '../../data/processed/Combined/Test/BUSI_benign (347).png', '../../data/processed/Combined/Test/BUSI_malignant (181).png', '../../data/processed/Combined/Test/BUSI_benign (346).png', '../../data/processed/Combined/Test/BUSI_malignant (180).png', '../../data/processed/Combined/Test/BUSI_normal (127).png', '../../data/processed/Combined/Test/BUSI_benign (311).png', '../../data/processed/Combined/Test/BUSI_malignant (207).png', '../../data/processed/Combined/Test/BUSI_benign (307).png', '../../data/processed/Combined/Test/BUSI_normal (131).png', '../../data/processed/Combined/Test/BUSI_benign (429).png', '../../data/processed/Combined/Test/BUSI_malignant (196).png', '../../data/processed/Combined/Test/BUSI_benign (350).png', '../../data/processed/Combined/Test/BUSI_malignant (179).png', '../../data/processed/Combined/Test/BUSI_benign (405).png', '../../data/processed/Combined/Test/BUSI_malignant (155).png', '../../data/processed/Combined/Test/BUSI_benign (393).png', '../../data/processed/Combined/Test/Dataset_B_benign (94).png', '../../data/processed/Combined/Test/BUSI_benign (413).png', '../../data/processed/Combined/Test/Dataset_B_malignant (43).png', '../../data/processed/Combined/Test/Dataset_B_benign (82).png', '../../data/processed/Combined/Test/BUSI_benign (385).png', '../../data/processed/Combined/Test/BUSI_normal (97).png', '../../data/processed/Combined/Test/Dataset_B_benign (100).png', '../../data/processed/Combined/Test/BUSI_malignant (163).png', '../../data/processed/Combined/Test/BUSI_benign (433).png', '../../data/processed/Combined/Test/BUSI_malignant (175).png', '../../data/processed/Combined/Test/BUSI_benign (425).png', '../../data/processed/Combined/Test/BUSI_benign (327).png', '../../data/processed/Combined/Test/BUSI_normal (111).png', '../../data/processed/Combined/Test/Dataset_B_benign (98).png', '../../data/processed/Combined/Test/BUSI_malignant (159).png', '../../data/processed/Combined/Test/BUSI_benign (370).png', '../../data/processed/Combined/Test/Dataset_B_benign (77).png', '../../data/processed/Combined/Test/BUSI_benign (409).png', '../../data/processed/Combined/Test/BUSI_benign (389).png', '../../data/processed/Combined/Test/BUSI_benign (366).png', '../../data/processed/Combined/Test/BUSI_normal (107).png', '../../data/processed/Combined/Test/BUSI_benign (331).png']\n",
      "Mean: tensor([0.3152, 0.3152, 0.3152])\n",
      "Standard deviation: tensor([0.1914, 0.1914, 0.1914])\n"
     ]
    }
   ],
   "source": [
    "transform = transforms.Compose([\n",
    "    transforms.ToTensor(),\n",
    "])\n",
    "\n",
    "folder_path = '../../data/processed/Combined/Test/'\n",
    "\n",
    "if os.path.exists(folder_path + '.DS_Store'):\n",
    "    os.remove(folder_path + '.DS_Store')\n",
    "\n",
    "image_paths = [os.path.join(folder_path, img) for img in os.listdir(folder_path)]\n",
    "\n",
    "print(image_paths)\n",
    "\n",
    "mean_sum = torch.zeros(3)\n",
    "std_sum = torch.zeros(3)\n",
    "\n",
    "for img_path in image_paths:\n",
    "    img = Image.open(img_path).convert('RGB')\n",
    "    img_tensor = transform(img)\n",
    "    mean_sum += img_tensor.mean(dim=(1, 2))\n",
    "    std_sum += img_tensor.std(dim=(1, 2))\n",
    "\n",
    "mean = mean_sum / len(image_paths)\n",
    "std = std_sum / len(image_paths)\n",
    "\n",
    "print(\"Mean:\", mean)\n",
    "print(\"Standard deviation:\", std)"
   ]
  },
  {
   "cell_type": "code",
   "execution_count": 4,
   "metadata": {},
   "outputs": [],
   "source": [
    "def pil_loader(path):\n",
    "    with open(path, 'rb') as f:\n",
    "        img = Image.open(f)\n",
    "        return img.convert('RGB')\n",
    "\n",
    "class TestDS(Dataset):\n",
    "    def __init__(self, root_dir, transform=None):\n",
    "        self.root_dir = root_dir\n",
    "        self.transform = transform\n",
    "        self.image_files = os.listdir(root_dir)\n",
    "\n",
    "    def __len__(self):\n",
    "        return len(self.image_files)\n",
    "\n",
    "    def __getitem__(self, idx):\n",
    "        img_name = os.path.join(self.root_dir, self.image_files[idx])\n",
    "        image = pil_loader(img_name)  # Load image using pil_loader\n",
    "        label = self._get_label(img_name)\n",
    "        if self.transform:\n",
    "            image = self.transform(image)\n",
    "        return image, label\n",
    "\n",
    "    def _get_label(self, filename):\n",
    "        if 'normal' in filename:\n",
    "            label = 0\n",
    "        elif 'benign' in filename:\n",
    "            label = 1\n",
    "        elif 'malignant' in filename:\n",
    "            label = 2\n",
    "        return label\n",
    "\n",
    "transform = transforms.Compose([\n",
    "    transforms.Resize(256),\n",
    "    transforms.CenterCrop(224),\n",
    "    transforms.ToTensor(),\n",
    "    transforms.Normalize(mean=[0.3152, 0.3152, 0.3152], std=[0.1914, 0.1914, 0.1914]),\n",
    "])\n",
    "\n",
    "eval_dataset = TestDS(root_dir=folder_path, transform=transform)\n"
   ]
  },
  {
   "cell_type": "code",
   "execution_count": 5,
   "metadata": {},
   "outputs": [
    {
     "name": "stdout",
     "output_type": "stream",
     "text": [
      "(tensor([[[ 2.1026,  2.0002,  2.0002,  ...,  2.4510,  2.4919,  2.4305],\n",
      "         [ 1.8773,  1.8978,  1.8978,  ...,  2.5329,  2.5944,  2.5124],\n",
      "         [ 1.8978,  1.8978,  1.7953,  ...,  2.5534,  2.5329,  2.4510],\n",
      "         ...,\n",
      "         [-1.0731, -1.0526, -1.0526,  ..., -1.6263, -1.6263, -1.6263],\n",
      "         [-1.0321, -1.0321, -1.0526,  ..., -1.6263, -1.6263, -1.6263],\n",
      "         [-0.9502, -0.8682, -0.8477,  ..., -1.6263, -1.6263, -1.6263]],\n",
      "\n",
      "        [[ 2.1026,  2.0002,  2.0002,  ...,  2.4510,  2.4919,  2.4305],\n",
      "         [ 1.8773,  1.8978,  1.8978,  ...,  2.5329,  2.5944,  2.5124],\n",
      "         [ 1.8978,  1.8978,  1.7953,  ...,  2.5534,  2.5329,  2.4510],\n",
      "         ...,\n",
      "         [-1.0731, -1.0526, -1.0526,  ..., -1.6263, -1.6263, -1.6263],\n",
      "         [-1.0321, -1.0321, -1.0526,  ..., -1.6263, -1.6263, -1.6263],\n",
      "         [-0.9502, -0.8682, -0.8477,  ..., -1.6263, -1.6263, -1.6263]],\n",
      "\n",
      "        [[ 2.1026,  2.0002,  2.0002,  ...,  2.4510,  2.4919,  2.4305],\n",
      "         [ 1.8773,  1.8978,  1.8978,  ...,  2.5329,  2.5944,  2.5124],\n",
      "         [ 1.8978,  1.8978,  1.7953,  ...,  2.5534,  2.5329,  2.4510],\n",
      "         ...,\n",
      "         [-1.0731, -1.0526, -1.0526,  ..., -1.6263, -1.6263, -1.6263],\n",
      "         [-1.0321, -1.0321, -1.0526,  ..., -1.6263, -1.6263, -1.6263],\n",
      "         [-0.9502, -0.8682, -0.8477,  ..., -1.6263, -1.6263, -1.6263]]]), 2)\n"
     ]
    }
   ],
   "source": [
    "print(eval_dataset[0])"
   ]
  },
  {
   "cell_type": "markdown",
   "metadata": {},
   "source": [
    "# Loading & Modifying ResNet-50 Model"
   ]
  },
  {
   "cell_type": "code",
   "execution_count": 6,
   "metadata": {},
   "outputs": [
    {
     "name": "stderr",
     "output_type": "stream",
     "text": [
      "Using cache found in /Users/ahmedmahmoud/.cache/torch/hub/pytorch_vision_v0.10.0\n",
      "/Users/ahmedmahmoud/Desktop/Uni/Semester 8/GP24_Ahmed_EmbeddedBreastCancer/Code/breast-cancer-diagnosis/env/lib/python3.10/site-packages/torchvision/models/_utils.py:208: UserWarning: The parameter 'pretrained' is deprecated since 0.13 and may be removed in the future, please use 'weights' instead.\n",
      "  warnings.warn(\n",
      "/Users/ahmedmahmoud/Desktop/Uni/Semester 8/GP24_Ahmed_EmbeddedBreastCancer/Code/breast-cancer-diagnosis/env/lib/python3.10/site-packages/torchvision/models/_utils.py:223: UserWarning: Arguments other than a weight enum or `None` for 'weights' are deprecated since 0.13 and may be removed in the future. The current behavior is equivalent to passing `weights=ResNet50_Weights.IMAGENET1K_V1`. You can also use `weights=ResNet50_Weights.DEFAULT` to get the most up-to-date weights.\n",
      "  warnings.warn(msg)\n"
     ]
    }
   ],
   "source": [
    "import torch\n",
    "import ssl\n",
    "from contextlib import redirect_stdout\n",
    "ssl._create_default_https_context = ssl._create_unverified_context\n",
    "\n",
    "model = torch.hub.load('pytorch/vision:v0.10.0', 'resnet50', pretrained=True)\n",
    "\n",
    "with redirect_stdout(None):\n",
    "    model.eval()"
   ]
  },
  {
   "cell_type": "code",
   "execution_count": 7,
   "metadata": {},
   "outputs": [],
   "source": [
    "from torch.utils.data import DataLoader\n",
    "\n",
    "train_loader = DataLoader(dataset, batch_size=32, shuffle=True)\n",
    "test_loader = DataLoader(eval_dataset, batch_size=32, shuffle=True)"
   ]
  },
  {
   "cell_type": "code",
   "execution_count": 8,
   "metadata": {},
   "outputs": [
    {
     "name": "stdout",
     "output_type": "stream",
     "text": [
      "2048\n"
     ]
    }
   ],
   "source": [
    "num_features = model.fc.in_features\n",
    "print(num_features)"
   ]
  },
  {
   "cell_type": "code",
   "execution_count": 9,
   "metadata": {},
   "outputs": [],
   "source": [
    "num_classes = 3\n",
    "new_fc_layers = [\n",
    "    torch.nn.Linear(num_features, 512),\n",
    "    torch.nn.ReLU(),\n",
    "    torch.nn.Dropout(0.5),\n",
    "    torch.nn.Linear(512, 256),\n",
    "    torch.nn.ReLU(),\n",
    "    torch.nn.Dropout(0.5),\n",
    "    torch.nn.Linear(256, num_classes)\n",
    "]\n",
    "model.fc = torch.nn.Sequential(*new_fc_layers)"
   ]
  },
  {
   "cell_type": "code",
   "execution_count": 10,
   "metadata": {},
   "outputs": [],
   "source": [
    "criterion = torch.nn.CrossEntropyLoss()\n",
    "optimizer = torch.optim.Adam(model.parameters(), lr=0.001)"
   ]
  },
  {
   "cell_type": "code",
   "execution_count": 11,
   "metadata": {},
   "outputs": [],
   "source": [
    "num_epochs = 10\n",
    "\n",
    "for epoch in range(num_epochs):\n",
    "    model.train()\n",
    "    \n",
    "    for inputs, labels in train_loader:\n",
    "        inputs, labels = inputs.to('cpu'), labels.to('cpu')\n",
    "        optimizer.zero_grad()\n",
    "        \n",
    "        outputs = model(inputs)\n",
    "        loss = criterion(outputs, labels)\n",
    "        \n",
    "        loss.backward()\n",
    "        optimizer.step()\n"
   ]
  },
  {
   "cell_type": "code",
   "execution_count": 12,
   "metadata": {},
   "outputs": [
    {
     "name": "stdout",
     "output_type": "stream",
     "text": [
      "Accuracy on test set: 0.5669014084507042\n"
     ]
    }
   ],
   "source": [
    "model.eval()\n",
    "\n",
    "correct = 0\n",
    "total = 0\n",
    "\n",
    "with torch.no_grad():\n",
    "    for inputs, labels in test_loader:\n",
    "        \n",
    "        outputs = model(inputs)\n",
    "        _, predicted = torch.max(outputs.data, 1)\n",
    "        \n",
    "        total += labels.size(0)\n",
    "        correct += (predicted == labels).sum().item()\n",
    "\n",
    "accuracy = correct / total\n",
    "print(f'Accuracy on test set: {accuracy}')"
   ]
  }
 ],
 "metadata": {
  "kernelspec": {
   "display_name": "Python 3",
   "language": "python",
   "name": "python3"
  },
  "language_info": {
   "codemirror_mode": {
    "name": "ipython",
    "version": 3
   },
   "file_extension": ".py",
   "mimetype": "text/x-python",
   "name": "python",
   "nbconvert_exporter": "python",
   "pygments_lexer": "ipython3",
   "version": "3.10.4"
  }
 },
 "nbformat": 4,
 "nbformat_minor": 2
}
