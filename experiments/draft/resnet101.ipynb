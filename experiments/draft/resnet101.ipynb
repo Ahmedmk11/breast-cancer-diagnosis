{
 "cells": [
  {
   "cell_type": "code",
   "execution_count": 1,
   "metadata": {},
   "outputs": [],
   "source": [
    "import torch\n",
    "from torchvision import transforms\n",
    "from torch.utils.data import Dataset\n",
    "from torch.utils.data import DataLoader\n",
    "from torch.utils.data.sampler import SubsetRandomSampler\n",
    "\n",
    "from PIL import Image\n",
    "import os\n",
    "from contextlib import redirect_stdout\n",
    "import ssl\n",
    "\n",
    "import matplotlib.pyplot as plt\n",
    "\n",
    "ssl._create_default_https_context = ssl._create_unverified_context"
   ]
  },
  {
   "cell_type": "markdown",
   "metadata": {},
   "source": [
    "# Datasets"
   ]
  },
  {
   "cell_type": "code",
   "execution_count": 2,
   "metadata": {},
   "outputs": [
    {
     "name": "stdout",
     "output_type": "stream",
     "text": [
      "Mean: [0.32753363251686096, 0.3275355100631714, 0.3275183141231537]\n",
      "Standard deviation: [0.20394660532474518, 0.20394884049892426, 0.20393770933151245]\n"
     ]
    }
   ],
   "source": [
    "transform = transforms.Compose([\n",
    "    transforms.ToTensor(),\n",
    "])\n",
    "\n",
    "train_dir_path = '../data/processed/BUSI/'\n",
    "\n",
    "if os.path.exists(train_dir_path + '.DS_Store'):\n",
    "    os.remove(train_dir_path + '.DS_Store')\n",
    "\n",
    "image_paths = [os.path.join(train_dir_path, img) for img in os.listdir(train_dir_path)]\n",
    "\n",
    "mean_sum = torch.zeros(3)\n",
    "std_sum = torch.zeros(3)\n",
    "\n",
    "for img_path in image_paths:\n",
    "    img = Image.open(img_path).convert('RGB')\n",
    "    img_tensor = transform(img)\n",
    "    mean_sum += img_tensor.mean(dim=(1, 2))\n",
    "    std_sum += img_tensor.std(dim=(1, 2))\n",
    "\n",
    "mean = mean_sum / len(image_paths)\n",
    "std = std_sum / len(image_paths)\n",
    "\n",
    "mean = mean.tolist()\n",
    "std = std.tolist()\n",
    "\n",
    "print(\"Mean:\", mean)\n",
    "print(\"Standard deviation:\", std)\n"
   ]
  },
  {
   "cell_type": "code",
   "execution_count": 3,
   "metadata": {},
   "outputs": [],
   "source": [
    "def pil_loader(path):\n",
    "    with open(path, 'rb') as f:\n",
    "        img = Image.open(f)\n",
    "        return img.convert('RGB')\n",
    "\n",
    "class BUSI(Dataset):\n",
    "    def __init__(self, root_dir, transform=None, train_percentage=0.8, vali_percentage=0.1, test_percentage=0.2):\n",
    "        self.root_dir = root_dir\n",
    "        self.transform = transform\n",
    "        self.image_files = os.listdir(root_dir)\n",
    "\n",
    "        self.test_percentage = test_percentage # 20%\n",
    "        self.train_percentage = train_percentage * (1 - vali_percentage) # 72%\n",
    "        self.vali_percentage = train_percentage - self.train_percentage # 8%\n",
    "\n",
    "        self._filter_files()\n",
    "\n",
    "    def __len__(self):\n",
    "        return len(self.image_files)\n",
    "\n",
    "    def __getitem__(self, idx):\n",
    "        img_name = os.path.join(self.root_dir, self.image_files[idx])\n",
    "        image = pil_loader(img_name)\n",
    "        label = self._get_label(img_name)\n",
    "        if self.transform:\n",
    "            image = self.transform(image)\n",
    "        return image, label\n",
    "\n",
    "    def _get_label(self, filename):\n",
    "        if 'normal' in filename:\n",
    "            label = 0\n",
    "        elif 'benign' in filename:\n",
    "            label = 1\n",
    "        elif 'malignant' in filename:\n",
    "            label = 2\n",
    "        return label\n",
    "\n",
    "    def _filter_files(self):\n",
    "        normal_files = [f for f in self.image_files if 'normal' in f]\n",
    "        benign_files = [f for f in self.image_files if 'benign' in f]\n",
    "        malignant_files = [f for f in self.image_files if 'malignant' in f]\n",
    "\n",
    "        train_normal_count = int(len(normal_files) * self.train_percentage)\n",
    "        train_benign_count = int(len(benign_files) * self.train_percentage)\n",
    "        train_malignant_count = int(len(malignant_files) * self.train_percentage)\n",
    "\n",
    "        vali_normal_count = int(len(normal_files) * self.vali_percentage)\n",
    "        vali_benign_count = int(len(benign_files) * self.vali_percentage)\n",
    "        vali_malignant_count = int(len(malignant_files) * self.vali_percentage)\n",
    "\n",
    "        test_normal_count = int(len(normal_files) * self.test_percentage)\n",
    "        test_benign_count = int(len(benign_files) * self.test_percentage)\n",
    "        test_malignant_count = int(len(malignant_files) * self.test_percentage)\n",
    "\n",
    "        normal_files = normal_files[:train_normal_count]\n",
    "        benign_files = benign_files[:train_benign_count]\n",
    "        malignant_files = malignant_files[:train_malignant_count]\n",
    "\n",
    "        self.train_files = normal_files + benign_files + malignant_files\n",
    "\n",
    "        normal_files = normal_files[:test_normal_count]\n",
    "        benign_files = benign_files[:test_benign_count]\n",
    "        malignant_files = malignant_files[:test_malignant_count]\n",
    "\n",
    "        self.test_files = normal_files + benign_files + malignant_files\n",
    "\n",
    "        normal_files = normal_files[:vali_normal_count]\n",
    "        benign_files = benign_files[:vali_benign_count]\n",
    "        malignant_files = malignant_files[:vali_malignant_count]\n",
    "\n",
    "        self.vali_files = normal_files + benign_files + malignant_files\n",
    "\n",
    "\n",
    "transform = transforms.Compose([\n",
    "    transforms.Resize(256),\n",
    "    transforms.CenterCrop(224),\n",
    "    transforms.ToTensor(),\n",
    "    transforms.Normalize(mean=mean, std=std),\n",
    "])\n",
    "\n",
    "BUSIDataset = BUSI(root_dir=train_dir_path, transform=transform, train_percentage=0.8, vali_percentage=0.1)"
   ]
  },
  {
   "cell_type": "code",
   "execution_count": 4,
   "metadata": {},
   "outputs": [
    {
     "data": {
      "text/plain": [
       "649"
      ]
     },
     "execution_count": 4,
     "metadata": {},
     "output_type": "execute_result"
    }
   ],
   "source": [
    "len(BUSIDataset.image_files)"
   ]
  },
  {
   "cell_type": "code",
   "execution_count": 5,
   "metadata": {},
   "outputs": [
    {
     "data": {
      "text/plain": [
       "466"
      ]
     },
     "execution_count": 5,
     "metadata": {},
     "output_type": "execute_result"
    }
   ],
   "source": [
    "len(BUSIDataset.train_files)"
   ]
  },
  {
   "cell_type": "code",
   "execution_count": 6,
   "metadata": {},
   "outputs": [
    {
     "data": {
      "text/plain": [
       "50"
      ]
     },
     "execution_count": 6,
     "metadata": {},
     "output_type": "execute_result"
    }
   ],
   "source": [
    "len(BUSIDataset.vali_files)"
   ]
  },
  {
   "cell_type": "code",
   "execution_count": 7,
   "metadata": {},
   "outputs": [
    {
     "data": {
      "text/plain": [
       "129"
      ]
     },
     "execution_count": 7,
     "metadata": {},
     "output_type": "execute_result"
    }
   ],
   "source": [
    "len(BUSIDataset.test_files)"
   ]
  },
  {
   "cell_type": "code",
   "execution_count": 8,
   "metadata": {},
   "outputs": [],
   "source": [
    "train_loader = DataLoader(BUSIDataset, batch_size=16, sampler=SubsetRandomSampler(range(len(BUSIDataset.train_files))))\n",
    "vali_loader = DataLoader(BUSIDataset, batch_size=16, sampler=SubsetRandomSampler(range(len(BUSIDataset.vali_files))))\n",
    "test_loader = DataLoader(BUSIDataset, batch_size=16, sampler=SubsetRandomSampler(range(len(BUSIDataset.test_files))))"
   ]
  },
  {
   "cell_type": "code",
   "execution_count": 9,
   "metadata": {},
   "outputs": [
    {
     "data": {
      "text/plain": [
       "<__main__.BUSI at 0x15560d540>"
      ]
     },
     "execution_count": 9,
     "metadata": {},
     "output_type": "execute_result"
    }
   ],
   "source": [
    "train_loader.dataset"
   ]
  },
  {
   "cell_type": "markdown",
   "metadata": {},
   "source": [
    "# Loading & Modifying ResNet-101 Model"
   ]
  },
  {
   "cell_type": "code",
   "execution_count": 23,
   "metadata": {},
   "outputs": [
    {
     "name": "stderr",
     "output_type": "stream",
     "text": [
      "Using cache found in /Users/ahmedmahmoud/.cache/torch/hub/pytorch_vision_v0.10.0\n"
     ]
    }
   ],
   "source": [
    "model = torch.hub.load('pytorch/vision:v0.10.0', 'resnet101', pretrained=True)\n",
    "\n",
    "with redirect_stdout(None):\n",
    "    model.eval()"
   ]
  },
  {
   "cell_type": "code",
   "execution_count": 11,
   "metadata": {},
   "outputs": [
    {
     "data": {
      "text/plain": [
       "2048"
      ]
     },
     "execution_count": 11,
     "metadata": {},
     "output_type": "execute_result"
    }
   ],
   "source": [
    "num_features = model.fc.in_features\n",
    "num_features"
   ]
  },
  {
   "cell_type": "code",
   "execution_count": 12,
   "metadata": {},
   "outputs": [],
   "source": [
    "num_classes = 3\n",
    "new_fc_layers = [\n",
    "    torch.nn.Linear(num_features, 512),\n",
    "    torch.nn.ReLU(),\n",
    "    torch.nn.Dropout(0.5),\n",
    "    torch.nn.Linear(512, 256),\n",
    "    torch.nn.ReLU(),\n",
    "    torch.nn.Dropout(0.5),\n",
    "    torch.nn.Linear(256, num_classes)\n",
    "]\n",
    "model.fc = torch.nn.Sequential(*new_fc_layers)"
   ]
  },
  {
   "cell_type": "code",
   "execution_count": 27,
   "metadata": {},
   "outputs": [],
   "source": [
    "criterion = torch.nn.CrossEntropyLoss()\n",
    "optimizer = torch.optim.Adam(model.parameters(), lr=0.0001)"
   ]
  },
  {
   "cell_type": "code",
   "execution_count": 14,
   "metadata": {},
   "outputs": [],
   "source": [
    "train_losses = []\n",
    "val_losses = []\n",
    "train_accuracies = []\n",
    "val_accuracies = []"
   ]
  },
  {
   "cell_type": "code",
   "execution_count": 28,
   "metadata": {},
   "outputs": [
    {
     "name": "stdout",
     "output_type": "stream",
     "text": [
      "Epoch [1/10], Validation Loss: 0.2862, Validation Accuracy: 96.00%\n",
      "Epoch [2/10], Validation Loss: 0.0837, Validation Accuracy: 98.00%\n",
      "Epoch [3/10], Validation Loss: 0.0141, Validation Accuracy: 100.00%\n",
      "Epoch [4/10], Validation Loss: 0.0212, Validation Accuracy: 98.00%\n",
      "Epoch [5/10], Validation Loss: 0.0055, Validation Accuracy: 100.00%\n",
      "Epoch [6/10], Validation Loss: 0.0362, Validation Accuracy: 100.00%\n",
      "Epoch [7/10], Validation Loss: 0.0045, Validation Accuracy: 100.00%\n",
      "Epoch [8/10], Validation Loss: 0.0013, Validation Accuracy: 100.00%\n",
      "Epoch [9/10], Validation Loss: 0.0012, Validation Accuracy: 100.00%\n",
      "Epoch [10/10], Validation Loss: 0.0016, Validation Accuracy: 100.00%\n"
     ]
    }
   ],
   "source": [
    "model = model.to('mps')\n",
    "\n",
    "num_epochs = 10\n",
    "for epoch in range(num_epochs):\n",
    "    model.train()\n",
    "    train_loss = 0\n",
    "    \n",
    "    for inputs, labels in train_loader:\n",
    "        inputs, labels = inputs.to('mps'), labels.to('mps')\n",
    "        optimizer.zero_grad()\n",
    "        \n",
    "        outputs = model(inputs)\n",
    "        loss = criterion(outputs, labels)\n",
    "        \n",
    "        loss.backward()\n",
    "        optimizer.step()\n",
    "        \n",
    "        train_loss += loss.item()\n",
    "\n",
    "    train_loss /= len(train_loader)\n",
    "    train_losses.append(train_loss)\n",
    "\n",
    "    model.eval()\n",
    "    val_loss = 0\n",
    "    correct = 0\n",
    "    total = 0\n",
    "    with torch.no_grad():\n",
    "        for inputs, labels in vali_loader:\n",
    "            inputs, labels = inputs.to('mps'), labels.to('mps')\n",
    "            outputs = model(inputs)\n",
    "            loss = criterion(outputs, labels)\n",
    "            val_loss += loss.item()\n",
    "            _, predicted = torch.max(outputs, 1)\n",
    "            total += labels.size(0)\n",
    "            correct += (predicted == labels).sum().item()\n",
    "\n",
    "    val_loss /= len(vali_loader)\n",
    "    val_losses.append(val_loss)\n",
    "    val_accuracy = 100 * correct / total\n",
    "    val_accuracies.append(val_accuracy)\n",
    "    \n",
    "    print(f'Epoch [{epoch+1}/{num_epochs}], Validation Loss: {val_loss:.4f}, Validation Accuracy: {val_accuracy:.2f}%')"
   ]
  },
  {
   "cell_type": "code",
   "execution_count": 29,
   "metadata": {},
   "outputs": [
    {
     "data": {
      "image/png": "[encoded data removed]",
      "text/plain": [
       "<Figure size 1000x500 with 1 Axes>"
      ]
     },
     "metadata": {},
     "output_type": "display_data"
    },
    {
     "data": {
      "image/png": "[encoded data removed]",
      "text/plain": [
       "<Figure size 1000x500 with 1 Axes>"
      ]
     },
     "metadata": {},
     "output_type": "display_data"
    }
   ],
   "source": [
    "plt.figure(figsize=(10, 5))\n",
    "plt.plot(train_losses, label='Training Loss')\n",
    "plt.plot(val_losses, label='Validation Loss')\n",
    "plt.xlabel('Epoch')\n",
    "plt.ylabel('Loss')\n",
    "plt.title('Training and Validation Loss')\n",
    "plt.legend()\n",
    "plt.show()\n",
    "\n",
    "plt.figure(figsize=(10, 5))\n",
    "plt.plot(val_accuracies, label='Validation Accuracy')\n",
    "plt.xlabel('Epoch')\n",
    "plt.ylabel('Accuracy')\n",
    "plt.title('Validation Accuracy')\n",
    "plt.legend()\n",
    "plt.show()"
   ]
  },
  {
   "cell_type": "code",
   "execution_count": 30,
   "metadata": {},
   "outputs": [
    {
     "name": "stdout",
     "output_type": "stream",
     "text": [
      "Test Loss: 0.0036, Test Accuracy: 100.00%\n"
     ]
    }
   ],
   "source": [
    "model.eval()\n",
    "test_loss = 0\n",
    "correct = 0\n",
    "total = 0\n",
    "with torch.no_grad():\n",
    "    for inputs, labels in test_loader:\n",
    "        inputs, labels = inputs.to('mps'), labels.to('mps')\n",
    "        outputs = model(inputs)\n",
    "        loss = criterion(outputs, labels)\n",
    "        test_loss += loss.item()\n",
    "        _, predicted = torch.max(outputs, 1)\n",
    "        total += labels.size(0)\n",
    "        correct += (predicted == labels).sum().item()\n",
    "\n",
    "test_loss /= len(test_loader)\n",
    "test_accuracy = 100 * correct / total\n",
    "\n",
    "print(f'Test Loss: {test_loss:.4f}, Test Accuracy: {test_accuracy:.2f}%')"
   ]
  },
  {
   "cell_type": "code",
   "execution_count": 34,
   "metadata": {},
   "outputs": [],
   "source": [
    "def pil_loader(path):\n",
    "    with open(path, 'rb') as f:\n",
    "        img = Image.open(f)\n",
    "        return img.convert('RGB')\n",
    "\n",
    "class DatasetB(Dataset):\n",
    "    def __init__(self, root_dir, transform=None):\n",
    "        self.root_dir = root_dir\n",
    "        self.transform = transform\n",
    "        self.image_files = os.listdir(root_dir)\n",
    "\n",
    "    def __len__(self):\n",
    "        return len(self.image_files)\n",
    "\n",
    "    def __getitem__(self, idx):\n",
    "        img_name = os.path.join(self.root_dir, self.image_files[idx])\n",
    "        image = pil_loader(img_name)\n",
    "        label = self._get_label(img_name)\n",
    "        if self.transform:\n",
    "            image = self.transform(image)\n",
    "        return image, label\n",
    "\n",
    "    def _get_label(self, filename):\n",
    "        if 'normal' in filename:\n",
    "            label = 0\n",
    "        elif 'benign' in filename:\n",
    "            label = 1\n",
    "        elif 'malignant' in filename:\n",
    "            label = 2\n",
    "        return label\n",
    "\n",
    "transform = transforms.Compose([\n",
    "    transforms.Resize(256),\n",
    "    transforms.CenterCrop(224),\n",
    "    transforms.ToTensor(),\n",
    "    transforms.Normalize(mean=mean, std=std),\n",
    "])\n",
    "\n",
    "test_ds = DatasetB(root_dir='../data/processed/Dataset (B)/', transform=transform)\n",
    "\n",
    "test_loader2 = DataLoader(test_ds, batch_size=16)"
   ]
  },
  {
   "cell_type": "code",
   "execution_count": 35,
   "metadata": {},
   "outputs": [
    {
     "name": "stdout",
     "output_type": "stream",
     "text": [
      "Test Loss: 2.4299, Test Accuracy: 55.83%\n"
     ]
    }
   ],
   "source": [
    "model.eval()\n",
    "test_loss = 0\n",
    "correct = 0\n",
    "total = 0\n",
    "with torch.no_grad():\n",
    "    for inputs, labels in test_loader2:\n",
    "        inputs, labels = inputs.to('mps'), labels.to('mps')\n",
    "        outputs = model(inputs)\n",
    "        loss = criterion(outputs, labels)\n",
    "        test_loss += loss.item()\n",
    "        _, predicted = torch.max(outputs, 1)\n",
    "        total += labels.size(0)\n",
    "        correct += (predicted == labels).sum().item()\n",
    "\n",
    "test_loss /= len(test_loader2)\n",
    "test_accuracy = 100 * correct / total\n",
    "\n",
    "print(f'Test Loss: {test_loss:.4f}, Test Accuracy: {test_accuracy:.2f}%')"
   ]
  }
 ],
 "metadata": {
  "kernelspec": {
   "display_name": "env",
   "language": "python",
   "name": "python3"
  },
  "language_info": {
   "codemirror_mode": {
    "name": "ipython",
    "version": 3
   },
   "file_extension": ".py",
   "mimetype": "text/x-python",
   "name": "python",
   "nbconvert_exporter": "python",
   "pygments_lexer": "ipython3",
   "version": "3.10.4"
  }
 },
 "nbformat": 4,
 "nbformat_minor": 2
}
